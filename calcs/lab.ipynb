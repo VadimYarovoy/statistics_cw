{
 "cells": [
  {
   "cell_type": "code",
   "execution_count": 246,
   "metadata": {},
   "outputs": [],
   "source": [
    "import statistics\n",
    "import math\n",
    "import matplotlib.pyplot as plt"
   ]
  },
  {
   "cell_type": "code",
   "execution_count": 247,
   "metadata": {},
   "outputs": [],
   "source": [
    "data = [\n",
    "    [1, 3.039  , 21, -1.155, 41, -13.58 , 61, -2.313, 81 , 3.827 ],\n",
    "    [2, -3.451 , 22, -3.497, 42, 8.596  , 62, -13.98, 82 , 12.22 ],\n",
    "    [3, -0.6512, 23, 1.485 , 43, 14     , 63, -2.868, 83 , -4.798],\n",
    "    [4, -3.736 , 24, -8.303, 44, -14.96 , 64, 18.5  , 84 , 0.4284],\n",
    "    [5, -11.8  , 25, 8.898 , 45, 0.8914 , 65, -12.37, 85 , 12.21 ],\n",
    "    [6, -4.782 , 26, 9.027 , 46, -10.24 , 66, -2.067, 86 , -7.923],\n",
    "    [7, -8.425 , 27, -4.556, 47, 0.5625 , 67, -12.61, 87 , 24.31 ],\n",
    "    [8, 0.2725 , 28, 0.3619, 48, -8.08  , 68, -11.15, 88 , 7.46  ],\n",
    "    [9, 0.6528 , 29, 0.0917, 49, 7.347  , 69, -10.63, 89 , -3.151],\n",
    "    [10, 1.817 , 30, 7.157 , 50, -26.74 , 70, 11.84 , 90 , 8.617 ],\n",
    "    [11, 4.136 , 31, 11.56 , 51, 1.591  , 71, -18.9 , 91 , -22.88],\n",
    "    [12, 4.783 , 32, 7.61  , 52, 1.699  , 72, -7.28 , 92 , 0.01614],\n",
    "    [13, 23.42 , 33, -8.621, 53, -10.01 , 73, 3.9   , 93 , 1.304 ],\n",
    "    [14, -18.12, 34, 15.7  , 54, -0.1007, 74, -2.958, 94 , -3.083],\n",
    "    [15, 6.959 , 35, 18.84 , 55, -2.655 , 75, 2.791 , 95 , 8.849 ],\n",
    "    [16, -23.39, 36, -15.55, 56, -6.989 , 76, 12.99 , 96 , -12.48],\n",
    "    [17, -9.895, 37, -8.372, 57, -4.335 , 77, -1.7  , 97 , 3.559 ],\n",
    "    [18, 2.228 , 38, -4.289, 58, 9.558  , 78, 9.272 , 98 , -10.97],\n",
    "    [19, 10.98 , 39, -0.113, 59, -17.33 , 79, -6.947, 99 , 5.637 ],\n",
    "    [20, 10.58 , 40, 11.28 , 60, 6.132  , 80, 7.38  , 100, 8.487 ]\n",
    "]"
   ]
  },
  {
   "cell_type": "code",
   "execution_count": 248,
   "metadata": {},
   "outputs": [],
   "source": [
    "new_data = []\n",
    "\n",
    "for i in range(1, 10, 2):\n",
    "    for c in data:\n",
    "        new_data.append(c[i])\n"
   ]
  },
  {
   "cell_type": "code",
   "execution_count": 249,
   "metadata": {},
   "outputs": [
    {
     "data": {
      "text/plain": [
       "100"
      ]
     },
     "execution_count": 249,
     "metadata": {},
     "output_type": "execute_result"
    }
   ],
   "source": [
    "len(new_data)"
   ]
  },
  {
   "cell_type": "code",
   "execution_count": 250,
   "metadata": {},
   "outputs": [
    {
     "name": "stdout",
     "output_type": "stream",
     "text": [
      "mean_value: -0.49931559999999997\n",
      "my_mean_value -0.49931559999999997\n"
     ]
    }
   ],
   "source": [
    "def my_mean(data):\n",
    "    return sum(data) / len(data)\n",
    "\n",
    "\n",
    "mean_value = statistics.mean(new_data)\n",
    "my_mean_value = my_mean(new_data)\n",
    "\n",
    "print(\"mean_value:\", mean_value)\n",
    "print(\"my_mean_value\", my_mean_value)\n"
   ]
  },
  {
   "cell_type": "code",
   "execution_count": 251,
   "metadata": {},
   "outputs": [
    {
     "name": "stdout",
     "output_type": "stream",
     "text": [
      "Смещенная дисперсия: 101.48262161949263\n",
      "Несмещенная дисперсия: 102.50769860554811\n"
     ]
    }
   ],
   "source": [
    "# Вычисление несмещенной дисперсии\n",
    "unbiased_variance = statistics.variance(new_data)\n",
    "\n",
    "# Вычисление смещенной дисперсии\n",
    "biased_variance = statistics.pvariance(new_data)\n",
    "\n",
    "print(\"Смещенная дисперсия:\", biased_variance)\n",
    "print(\"Несмещенная дисперсия:\", unbiased_variance)"
   ]
  },
  {
   "cell_type": "code",
   "execution_count": 252,
   "metadata": {},
   "outputs": [
    {
     "name": "stdout",
     "output_type": "stream",
     "text": [
      "Медиана: 0.05392\n"
     ]
    }
   ],
   "source": [
    "median = statistics.median(new_data)\n",
    "print(\"Медиана:\", median)\n"
   ]
  },
  {
   "cell_type": "markdown",
   "metadata": {},
   "source": [
    "Размах варьирования (широта распределения) R это разность между\n",
    "наибольшим и наименьшим значениями вариационного ряда:"
   ]
  },
  {
   "cell_type": "code",
   "execution_count": 253,
   "metadata": {},
   "outputs": [
    {
     "name": "stdout",
     "output_type": "stream",
     "text": [
      "R: 52\n"
     ]
    }
   ],
   "source": [
    "x_max = max(new_data)\n",
    "x_min = min(new_data)\n",
    "\n",
    "r = math.ceil(x_max - x_min)\n",
    "print(\"R:\", (r))"
   ]
  },
  {
   "cell_type": "code",
   "execution_count": 282,
   "metadata": {},
   "outputs": [
    {
     "data": {
      "text/plain": [
       "24.31"
      ]
     },
     "execution_count": 282,
     "metadata": {},
     "output_type": "execute_result"
    }
   ],
   "source": [
    "x_max"
   ]
  },
  {
   "cell_type": "markdown",
   "metadata": {},
   "source": [
    "### ГРУППИРОВАНИЕ, ГРАФИКИ СТАТИСТИЧЕСКИХ РАСПРЕДЕЛЕНИЙ"
   ]
  },
  {
   "cell_type": "markdown",
   "metadata": {},
   "source": [
    "- Выбор количества интервалов\n",
    "- рекомендуется брать от 10 до 20 интервалов l.\n",
    "- При предположении о нормальном законе распределения, величину l берут равной 12-15\n"
   ]
  },
  {
   "cell_type": "code",
   "execution_count": 254,
   "metadata": {},
   "outputs": [
    {
     "data": {
      "text/plain": [
       "4.333333333333333"
      ]
     },
     "execution_count": 254,
     "metadata": {},
     "output_type": "execute_result"
    }
   ],
   "source": [
    "l = 12\n",
    "delta_x = r / l\n",
    "delta_x"
   ]
  },
  {
   "cell_type": "code",
   "execution_count": 255,
   "metadata": {},
   "outputs": [
    {
     "name": "stdout",
     "output_type": "stream",
     "text": [
      "-26.74 24.31\n",
      "Интервал (-26.74, -22.406666666666666): Частотность 0.03, середина -24.57333333333333\n",
      "Интервал (-22.406666666666666, -18.073333333333334): Частотность 0.02, середина -20.240000000000002\n",
      "Интервал (-18.073333333333334, -13.740000000000002): Частотность 0.04, середина -15.906666666666668\n",
      "Интервал (-13.740000000000002, -9.40666666666667): Частотность 0.11, середина -11.573333333333336\n",
      "Интервал (-9.40666666666667, -5.073333333333337): Частотность 0.09, середина -7.240000000000004\n",
      "Интервал (-5.073333333333337, -0.7400000000000038): Частотность 0.17, середина -2.9066666666666703\n",
      "Интервал (-0.7400000000000038, 3.5933333333333293): Частотность 0.2, середина 1.4266666666666628\n",
      "Интервал (3.5933333333333293, 7.926666666666662): Частотность 0.12, середина 5.759999999999996\n",
      "Интервал (7.926666666666662, 12.259999999999994): Частотность 0.15, середина 10.093333333333328\n",
      "Интервал (12.259999999999994, 16.593333333333327): Частотность 0.03, середина 14.42666666666666\n",
      "Интервал (16.593333333333327, 20.92666666666666): Частотность 0.02, середина 18.75999999999999\n",
      "Интервал (20.92666666666666, 25.25999999999999): Частотность 0.02, середина 23.093333333333327\n"
     ]
    }
   ],
   "source": [
    "sorted_data = sorted(new_data)\n",
    "\n",
    "min_value = min(sorted_data)\n",
    "max_value = max(sorted_data)\n",
    "\n",
    "print(min_value, max_value)\n",
    "\n",
    "\n",
    "intervals = []\n",
    "\n",
    "x_axe_tick = []\n",
    "x_axe_tick.append(min_value)\n",
    "\n",
    "# Создаем интервалы\n",
    "while min_value < max_value:\n",
    "    intervals.append((min_value, min_value + delta_x))\n",
    "    min_value += delta_x\n",
    "    x_axe_tick.append(min_value)\n",
    "\n",
    "results = {interval: [] for interval in intervals}\n",
    "\n",
    "# Разделяем данные по интервалам\n",
    "for number in sorted_data:\n",
    "    for interval in intervals:\n",
    "        if interval[0] <= number and number < interval[1]:\n",
    "            results[interval].append(number)\n",
    "\n",
    "# Частотность\n",
    "frec = []\n",
    "x_axe = []\n",
    "\n",
    "x_with_avg = [x_min]\n",
    "\n",
    "for interval, numbers in results.items():\n",
    "    frec.append(len(numbers) / 100)\n",
    "    x_axe.append((interval[0] + interval[1]) / 2)\n",
    "    x_with_avg.append((interval[0] + interval[1]) / 2)\n",
    "    print(f\"Интервал {interval}: Частотность {len(numbers) / 100}, середина {(interval[0] + interval[1]) / 2}\")\n",
    "\n",
    "x_with_avg.append(25.25999999999999)"
   ]
  },
  {
   "cell_type": "code",
   "execution_count": 256,
   "metadata": {},
   "outputs": [
    {
     "name": "stdout",
     "output_type": "stream",
     "text": [
      "20 [-0.6512, -0.113, -0.1007, 0.01614, 0.0917, 0.2725, 0.3619, 0.4284, 0.5625, 0.6528, 0.8914, 1.304, 1.485, 1.591, 1.699, 1.817, 2.228, 2.791, 3.039, 3.559]\n"
     ]
    }
   ],
   "source": [
    "for interval, numbers in results.items():\n",
    "    if len(numbers) > 18:\n",
    "        print(len(numbers), numbers)"
   ]
  },
  {
   "cell_type": "code",
   "execution_count": 283,
   "metadata": {},
   "outputs": [
    {
     "data": {
      "text/plain": [
       "[-26.74,\n",
       " -23.39,\n",
       " -22.88,\n",
       " -18.9,\n",
       " -18.12,\n",
       " -17.33,\n",
       " -15.55,\n",
       " -14.96,\n",
       " -13.98,\n",
       " -13.58,\n",
       " -12.61,\n",
       " -12.48,\n",
       " -12.37,\n",
       " -11.8,\n",
       " -11.15,\n",
       " -10.97,\n",
       " -10.63,\n",
       " -10.24,\n",
       " -10.01,\n",
       " -9.895,\n",
       " -8.621,\n",
       " -8.425,\n",
       " -8.372,\n",
       " -8.303,\n",
       " -8.08,\n",
       " -7.923,\n",
       " -7.28,\n",
       " -6.989,\n",
       " -6.947,\n",
       " -4.798,\n",
       " -4.782,\n",
       " -4.556,\n",
       " -4.335,\n",
       " -4.289,\n",
       " -3.736,\n",
       " -3.497,\n",
       " -3.451,\n",
       " -3.151,\n",
       " -3.083,\n",
       " -2.958,\n",
       " -2.868,\n",
       " -2.655,\n",
       " -2.313,\n",
       " -2.067,\n",
       " -1.7,\n",
       " -1.155,\n",
       " -0.6512,\n",
       " -0.113,\n",
       " -0.1007,\n",
       " 0.01614,\n",
       " 0.0917,\n",
       " 0.2725,\n",
       " 0.3619,\n",
       " 0.4284,\n",
       " 0.5625,\n",
       " 0.6528,\n",
       " 0.8914,\n",
       " 1.304,\n",
       " 1.485,\n",
       " 1.591,\n",
       " 1.699,\n",
       " 1.817,\n",
       " 2.228,\n",
       " 2.791,\n",
       " 3.039,\n",
       " 3.559,\n",
       " 3.827,\n",
       " 3.9,\n",
       " 4.136,\n",
       " 4.783,\n",
       " 5.637,\n",
       " 6.132,\n",
       " 6.959,\n",
       " 7.157,\n",
       " 7.347,\n",
       " 7.38,\n",
       " 7.46,\n",
       " 7.61,\n",
       " 8.487,\n",
       " 8.596,\n",
       " 8.617,\n",
       " 8.849,\n",
       " 8.898,\n",
       " 9.027,\n",
       " 9.272,\n",
       " 9.558,\n",
       " 10.58,\n",
       " 10.98,\n",
       " 11.28,\n",
       " 11.56,\n",
       " 11.84,\n",
       " 12.21,\n",
       " 12.22,\n",
       " 12.99,\n",
       " 14,\n",
       " 15.7,\n",
       " 18.5,\n",
       " 18.84,\n",
       " 23.42,\n",
       " 24.31]"
      ]
     },
     "execution_count": 283,
     "metadata": {},
     "output_type": "execute_result"
    }
   ],
   "source": [
    "sorted_data"
   ]
  },
  {
   "cell_type": "code",
   "execution_count": 257,
   "metadata": {},
   "outputs": [
    {
     "data": {
      "image/png": "[encoded data removed]",
      "text/plain": [
       "<Figure size 640x480 with 1 Axes>"
      ]
     },
     "metadata": {},
     "output_type": "display_data"
    }
   ],
   "source": [
    "plt.scatter(x_axe, frec, marker='o')\n",
    "plt.plot(x_axe, frec, marker='o')\n",
    "\n",
    "plt.title(\"Полигон\")\n",
    "plt.xlabel(\"Интревал\")\n",
    "plt.ylabel(\"Частотность\")\n",
    "\n",
    "plt.xticks(x_axe_tick, rotation=45)\n",
    "\n",
    "plt.grid()\n",
    "plt.show()"
   ]
  },
  {
   "cell_type": "code",
   "execution_count": 258,
   "metadata": {},
   "outputs": [
    {
     "data": {
      "image/png": "[encoded data removed]",
      "text/plain": [
       "<Figure size 640x480 with 1 Axes>"
      ]
     },
     "metadata": {},
     "output_type": "display_data"
    }
   ],
   "source": [
    "plt.bar(x_axe, frec, width=delta_x)\n",
    "\n",
    "plt.title(\"Гистограмма\")\n",
    "plt.xlabel(\"Интревал\")\n",
    "plt.ylabel(\"Частотность\")\n",
    "\n",
    "plt.xticks(x_axe_tick, rotation=45)\n",
    "\n",
    "\n",
    "plt.grid() \n",
    "plt.show()"
   ]
  },
  {
   "cell_type": "code",
   "execution_count": 259,
   "metadata": {},
   "outputs": [
    {
     "name": "stdout",
     "output_type": "stream",
     "text": [
      "13 [-26.74, -22.406666666666666, -18.073333333333334, -13.740000000000002, -9.40666666666667, -5.073333333333337, -0.7400000000000038, 3.5933333333333293, 7.926666666666662, 12.259999999999994, 16.593333333333327, 20.92666666666666, 25.25999999999999]\n",
      "13 [0, 0.03, 0.05, 0.09, 0.2, 0.29000000000000004, 0.4600000000000001, 0.6600000000000001, 0.7800000000000001, 0.9300000000000002, 0.9600000000000002, 0.9800000000000002, 1.0000000000000002]\n"
     ]
    },
    {
     "data": {
      "image/png": "[encoded data removed]",
      "text/plain": [
       "<Figure size 640x480 with 1 Axes>"
      ]
     },
     "metadata": {},
     "output_type": "display_data"
    }
   ],
   "source": [
    "# Создание списка для накопленных частот\n",
    "cumulative_frequencies = []\n",
    "cumulative_sum = 0\n",
    "cumulative_frequencies.append(cumulative_sum)\n",
    "\n",
    "for f in frec:\n",
    "    cumulative_sum += f\n",
    "    cumulative_frequencies.append(cumulative_sum)\n",
    "\n",
    "cumulative_frequencies\n",
    "\n",
    "# # Создание графика накопленной частотности\n",
    "# plt.figure(figsize=(10, 6))  # Установка размера графика\n",
    "# plt.hist(intervals[:-1], bins=intervals, weights=cumulative_frequencies, color='blue', edgecolor='black', alpha=0.7, cumulative=True)\n",
    "\n",
    "# plt.stairs(cumulative_frequencies, frec)\n",
    "print(len(x_axe_tick), x_axe_tick)\n",
    "print(len(cumulative_frequencies), cumulative_frequencies)\n",
    "\n",
    "\n",
    "plt.stairs(cumulative_frequencies, x_with_avg, linewidth=2)\n",
    "\n",
    "\n",
    "plt.title(\"Степенчатая кривая\")\n",
    "plt.xlabel(\"Интервал\")\n",
    "plt.ylabel(\"Накопленная частотность\")\n",
    "\n",
    "plt.xticks(x_axe_tick, rotation=45)\n",
    "\n",
    "plt.grid()\n",
    "plt.show()"
   ]
  },
  {
   "cell_type": "markdown",
   "metadata": {},
   "source": [
    "### ТОЧЕЧНАЯ ОЦЕНКА ХАРАКТЕРИСТИК РАСПРЕДЕЛЕНИЯ ПО СГРУППИРОВАННЫМ ДАННЫМ"
   ]
  },
  {
   "cell_type": "markdown",
   "metadata": {},
   "source": [
    "Среднее арифметическое выборки"
   ]
  },
  {
   "cell_type": "code",
   "execution_count": 284,
   "metadata": {},
   "outputs": [
    {
     "name": "stdout",
     "output_type": "stream",
     "text": [
      "x_avg = [-24.57333333333333, -20.240000000000002, -15.906666666666668, -11.573333333333336, -7.240000000000004, -2.9066666666666703, 1.4266666666666628, 5.759999999999996, 10.093333333333328, 14.42666666666666, 18.75999999999999, 23.093333333333327]\n",
      "Среднее арифметическое выборки: -0.4366666666666704\n",
      "Мода: 1.4266666666666628\n",
      "S_2: 100.91245199999997\n",
      "S: 10.045519001027273\n",
      "V: -23.005005345863786\n",
      "s_*_2: 99.34763718518516\n"
     ]
    }
   ],
   "source": [
    "x_avg = x_with_avg[1:-1]\n",
    "\n",
    "print(f\"x_avg = {x_avg}\")\n",
    "\n",
    "sred_arr = 0\n",
    "for i in range(l):\n",
    "    sred_arr += x_avg[i] * frec[i] * 100\n",
    "\n",
    "sred_arr /= 100\n",
    "\n",
    "print(f\"Среднее арифметическое выборки: {sred_arr}\")\n",
    "\n",
    "max_size_int_val = 0\n",
    "max_size_int = ()\n",
    "\n",
    "for key, value in results.items():\n",
    "    if len(value) > max_size_int_val:\n",
    "        max_size_int_val = len(value)\n",
    "        max_size_int = key\n",
    "\n",
    "max_size_int\n",
    "\n",
    "# Мода 𝑀̃0 - ее оценкой считается середина самого многочисленного интервала.\n",
    "mode = (max_size_int[0] + max_size_int[1]) / 2\n",
    "print(f\"Мода: {mode}\")\n",
    "\n",
    "s_2 = 0\n",
    "\n",
    "for i in range(l):\n",
    "    # print(f\"avg={pow(x_avg[i], 2)}, f = {frec[i] * 100}, srar = {pow(sred_arr, 2)}\")\n",
    "    s_2 += pow(x_avg[i], 2) * (frec[i] * 100) - pow(sred_arr, 2)\n",
    "\n",
    "# делим на кол-во эллементов в выборке\n",
    "s_2 /= 100\n",
    "print(f\"S_2: {s_2}\")\n",
    "\n",
    "s = math.sqrt(s_2)\n",
    "\n",
    "print(f\"S: {s}\")\n",
    "\n",
    "v = s / sred_arr\n",
    "\n",
    "print(f\"V: {v}\")\n",
    "\n",
    "# поправка Шеппарда\n",
    "\n",
    "s_shep_2 = s_2 - pow(delta_x, 2) / l\n",
    "print(f\"s_*_2: {s_shep_2}\")\n",
    "\n"
   ]
  },
  {
   "cell_type": "markdown",
   "metadata": {},
   "source": [
    "Когда мы имеем дело с нецелочисленными границами, то за начало отсчета\n",
    "берем «ложный нуль», принимая за его значение интервал отвечающий\n",
    "наибольшему значению частоты."
   ]
  },
  {
   "cell_type": "code",
   "execution_count": 261,
   "metadata": {},
   "outputs": [
    {
     "name": "stdout",
     "output_type": "stream",
     "text": [
      "6 1.4266666666666628\n",
      "[-6, -5, -4, -3, -2, -1, 0, 1, 2, 3, 4, 5]\n"
     ]
    }
   ],
   "source": [
    "max_interval_size_idx = 0\n",
    "max_interval_size_len = 0\n",
    "\n",
    "\n",
    "for i, (interval, numbers) in enumerate(results.items()):\n",
    "    # print(\"i = \", i,\"len = \", len(numbers), \"max_i = \",max_interval_size_idx, \"max_v = \",max_interval_size_len, \"\\n\")\n",
    "    if len(numbers) > max_interval_size_len:\n",
    "        max_interval_size_idx = i\n",
    "        max_interval_size_len = len(numbers)\n",
    "\n",
    "print(max_interval_size_idx, x_avg[max_interval_size_idx])\n",
    "\n",
    "otnos_mid_int = []\n",
    "\n",
    "for i, (interval, numbers) in enumerate(results.items()):\n",
    "    v = (x_avg[i] - x_avg[max_interval_size_idx]) / delta_x\n",
    "    otnos_mid_int.append(round(v))\n",
    "\n",
    "print(otnos_mid_int)\n",
    "    \n",
    "otnos_mid_int_2 = [pow(i, 2) for i in otnos_mid_int]\n",
    "otnos_mid_int_3 = [pow(i, 3) for i in otnos_mid_int]\n",
    "otnos_mid_int_4 = [pow(i, 4) for i in otnos_mid_int]\n",
    "\n",
    "int_frec = [int(i * 100) for i in frec]\n",
    "\n",
    "vi_yi = [(int_frec[i] * otnos_mid_int[i]) for i in range(len(results))]\n",
    "vi_yi_2 = [(int_frec[i] * otnos_mid_int_2[i]) for i in range(len(results))]\n",
    "vi_yi_3 = [(int_frec[i] * otnos_mid_int_3[i]) for i in range(len(results))]\n",
    "vi_yi_4 = [(int_frec[i] * otnos_mid_int_4[i]) for i in range(len(results))]"
   ]
  },
  {
   "cell_type": "code",
   "execution_count": 262,
   "metadata": {},
   "outputs": [
    {
     "name": "stdout",
     "output_type": "stream",
     "text": [
      "['№ интервала', 'середина интервала', 'отн середина', '(y_i)^2', '(y_i)^3', '(y_i)^4', 'частота в интервале', 'v_i * y_i', 'v_i * (y_i)^2', 'v_i * (y_i)^3', 'v_i * (y_i)^4'] \n",
      "\n",
      "[1, -24.57333333333333, -6, 36, -216, 1296, 3, -18, 108, -648, 3888] \n",
      "\n",
      "[2, -20.240000000000002, -5, 25, -125, 625, 2, -10, 50, -250, 1250] \n",
      "\n",
      "[3, -15.906666666666668, -4, 16, -64, 256, 4, -16, 64, -256, 1024] \n",
      "\n",
      "[4, -11.573333333333336, -3, 9, -27, 81, 11, -33, 99, -297, 891] \n",
      "\n",
      "[5, -7.240000000000004, -2, 4, -8, 16, 9, -18, 36, -72, 144] \n",
      "\n",
      "[6, -2.9066666666666703, -1, 1, -1, 1, 17, -17, 17, -17, 17] \n",
      "\n",
      "[7, 1.4266666666666628, 0, 0, 0, 0, 20, 0, 0, 0, 0] \n",
      "\n",
      "[8, 5.759999999999996, 1, 1, 1, 1, 12, 12, 12, 12, 12] \n",
      "\n",
      "[9, 10.093333333333328, 2, 4, 8, 16, 15, 30, 60, 120, 240] \n",
      "\n",
      "[10, 14.42666666666666, 3, 9, 27, 81, 3, 9, 27, 81, 243] \n",
      "\n",
      "[11, 18.75999999999999, 4, 16, 64, 256, 2, 8, 32, 128, 512] \n",
      "\n",
      "[12, 23.093333333333327, 5, 25, 125, 625, 2, 10, 50, 250, 1250] \n",
      "\n"
     ]
    }
   ],
   "source": [
    "header_table_4 = [\"№ интервала\",  \"середина интервала\", \"отн середина\", \"(y_i)^2\", \"(y_i)^3\", \"(y_i)^4\", \"частота в интервале\", \"v_i * y_i\", \"v_i * (y_i)^2\", \"v_i * (y_i)^3\", \"v_i * (y_i)^4\"]\n",
    "\n",
    "print(header_table_4, \"\\n\")\n",
    "\n",
    "for i, (interval, numbers) in enumerate(results.items()):\n",
    "    row =  [i + 1, x_avg[i], otnos_mid_int[i], otnos_mid_int_2[i], otnos_mid_int_3[i], otnos_mid_int_4[i], int_frec[i], vi_yi[i], vi_yi_2[i], vi_yi_3[i], vi_yi_4[i]]\n",
    "    print(row, \"\\n\")"
   ]
  },
  {
   "cell_type": "markdown",
   "metadata": {},
   "source": [
    "Cуммы"
   ]
  },
  {
   "cell_type": "code",
   "execution_count": 263,
   "metadata": {},
   "outputs": [
    {
     "name": "stdout",
     "output_type": "stream",
     "text": [
      "Σ0 =  100\n",
      "Σ1 =  -43\n",
      "Σ2 =  555\n",
      "Σ3 =  -949\n",
      "Σ4 =  9471\n"
     ]
    }
   ],
   "source": [
    "total_frec = sum(int_frec)\n",
    "print(\"Σ0 = \", total_frec)\n",
    "\n",
    "vi_yi_total = sum(vi_yi)\n",
    "print(\"Σ1 = \", vi_yi_total)\n",
    "\n",
    "vi_yi_2_total = sum(vi_yi_2)\n",
    "print(\"Σ2 = \", vi_yi_2_total)\n",
    "\n",
    "vi_yi_3_total = sum(vi_yi_3)\n",
    "print(\"Σ3 = \", vi_yi_3_total)\n",
    "\n",
    "vi_yi_4_total = sum(vi_yi_4)\n",
    "print(\"Σ4 = \", vi_yi_4_total)"
   ]
  },
  {
   "cell_type": "markdown",
   "metadata": {},
   "source": [
    "Начальные моменты в относительном выражении"
   ]
  },
  {
   "cell_type": "code",
   "execution_count": 264,
   "metadata": {},
   "outputs": [
    {
     "name": "stdout",
     "output_type": "stream",
     "text": [
      "h1 =  -0.43\n",
      "h2 =  5.55\n",
      "h3 =  -9.49\n",
      "h4 =  94.71\n"
     ]
    }
   ],
   "source": [
    "h1 = vi_yi_total / 100 # data len\n",
    "print(\"h1 = \", h1)\n",
    "\n",
    "h2 = vi_yi_2_total / 100 # data len\n",
    "print(\"h2 = \", h2)\n",
    "\n",
    "h3 = vi_yi_3_total / 100 # data len\n",
    "print(\"h3 = \", h3)\n",
    "\n",
    "h4 = vi_yi_4_total / 100 # data len\n",
    "print(\"h4 = \", h4)\n",
    "\n"
   ]
  },
  {
   "cell_type": "markdown",
   "metadata": {},
   "source": [
    "Вычислим значения моментов по предлагаемым формулам:"
   ]
  },
  {
   "cell_type": "code",
   "execution_count": 265,
   "metadata": {},
   "outputs": [
    {
     "name": "stdout",
     "output_type": "stream",
     "text": [
      "m1 = -0.43666666666667053\n",
      "m2 = 100.74465555555554\n",
      "m3 = -202.57267622222224\n",
      "m4 = 29774.59778159468\n"
     ]
    }
   ],
   "source": [
    "m1 = delta_x * h1 + x_avg[max_interval_size_idx]\n",
    "m2 = pow(delta_x, 2) * (h2 - pow(h1, 2))\n",
    "m3 = pow(delta_x, 3) * (h3 - 3 * h1 * h2 + 2 * pow(h1, 3))\n",
    "m4 = pow(delta_x, 4) * (h4 - (4 * h1 * h3) + (6 * pow(h1, 2) * h2) - (3 * pow(h1, 4)))\n",
    "\n",
    "print(f\"m1 = {m1}\")\n",
    "print(f\"m2 = {m2}\")\n",
    "print(f\"m3 = {m3}\")\n",
    "print(f\"m4 = {m4}\")"
   ]
  },
  {
   "cell_type": "markdown",
   "metadata": {},
   "source": [
    "Оценки асимметрии и эксцесса определяются по формулам:"
   ]
  },
  {
   "cell_type": "code",
   "execution_count": 266,
   "metadata": {},
   "outputs": [
    {
     "name": "stdout",
     "output_type": "stream",
     "text": [
      "s_k = -0.19983139829145496\n",
      "e_k = -0.07614126810561528\n"
     ]
    }
   ],
   "source": [
    "s_k = m3 / pow(s, 3)\n",
    "e_k = m4 / pow(s, 4) - 3\n",
    "\n",
    "print(f\"s_k = {s_k}\")\n",
    "print(f\"e_k = {e_k}\")"
   ]
  },
  {
   "cell_type": "markdown",
   "metadata": {},
   "source": [
    "Доверительный интервал для математического ожидания. Возьмем часть\n",
    "нашей выборки. Обычно берут первые 20 элементов таблицы 1 (еще не сортированные)"
   ]
  },
  {
   "cell_type": "code",
   "execution_count": 267,
   "metadata": {},
   "outputs": [
    {
     "name": "stdout",
     "output_type": "stream",
     "text": [
      "[3.039, -3.451, -0.6512, -3.736, -11.8, -4.782, -8.425, 0.2725, 0.6528, 1.817, 4.136, 4.783, 23.42, -18.12, 6.959, -23.39, -9.895, 2.228, 10.98, 10.58]\n",
      "[-23.39, -18.12, -11.8, -9.895, -8.425, -4.782, -3.736, -3.451, -0.6512, 0.2725, 0.6528, 1.817, 2.228, 3.039, 4.136, 4.783, 6.959, 10.58, 10.98, 23.42]\n",
      "[547.0921000000001, 328.3344, 139.24, 97.911025, 70.98062500000002, 22.867524, 13.957696000000002, 11.909401, 0.42406144, 0.07425625000000001, 0.42614784000000006, 3.3014889999999997, 4.963984000000001, 9.235521, 17.106496, 22.877089000000005, 48.42768099999999, 111.9364, 120.56040000000002, 548.4964000000001]\n"
     ]
    }
   ],
   "source": [
    "short_num = 20\n",
    "\n",
    "short_table = new_data[:short_num]\n",
    "print(short_table)\n",
    "\n",
    "sorted_short_table = sorted(short_table)\n",
    "print(sorted_short_table)\n",
    "\n",
    "sorted_short_table_2 = [pow(i, 2) for i in sorted_short_table]\n",
    "print(sorted_short_table_2)\n"
   ]
  },
  {
   "cell_type": "markdown",
   "metadata": {},
   "source": [
    "найдем по ним оценки математического ожидания и дисперсии\n",
    "(смещенную и несмещенную)"
   ]
  },
  {
   "cell_type": "code",
   "execution_count": 268,
   "metadata": {},
   "outputs": [
    {
     "name": "stdout",
     "output_type": "stream",
     "text": [
      "Смещенная дисперсия: 110.96268504786843\n",
      "Несмещенная дисперсия: 105.41455079547501\n",
      "mean_value: -0.769145\n",
      "n-1 = 19\n",
      "t5,19 = из таблицы распределения Стьюдента, приложение 1\n",
      "s =  10.267158847289497 \n",
      "\n",
      "sqrt (n - 1) =  4.358898943540674 \n",
      "\n",
      "=================\n",
      "\n",
      "-5.699097207132741 < m_x < 4.160807207132741\n"
     ]
    }
   ],
   "source": [
    "# Вычисление несмещенной дисперсии\n",
    "unbiased_variance_short = statistics.variance(short_table)\n",
    "\n",
    "# Вычисление смещенной дисперсии\n",
    "biased_variance_short = statistics.pvariance(short_table)\n",
    "\n",
    "print(\"Смещенная дисперсия:\", unbiased_variance_short)\n",
    "print(\"Несмещенная дисперсия:\", biased_variance_short)\n",
    "\n",
    "mean_value_short = statistics.mean(short_table)\n",
    "\n",
    "print(\"mean_value:\", mean_value_short)\n",
    "\n",
    "short_q = 5\n",
    "\n",
    "n_minus_one = short_num - 1\n",
    "print(\"n-1 =\", n_minus_one)\n",
    "\n",
    "print(f\"t{short_q},{n_minus_one} = из таблицы распределения Стьюдента, приложение 1\")\n",
    "\n",
    "# !!!!!!!!!!!! поменять значение !!!!!!!!!!!!!\n",
    "t_q_n_minus_one = 2.093\n",
    "\n",
    "print(\"s = \", math.sqrt(biased_variance_short), \"\\n\")\n",
    "\n",
    "print(\"sqrt (n - 1) = \", math.sqrt(n_minus_one), \"\\n\")\n",
    "\n",
    "print(\"=================\\n\")\n",
    "\n",
    "# print(f\"{mean_value} - {t_q_n_minus_one} * {math.sqrt(biased_variance_short)} / {math.sqrt(n_minus_one)}\\n\")\n",
    "\n",
    "left = mean_value_short - t_q_n_minus_one * math.sqrt(biased_variance_short) / (math.sqrt(n_minus_one))\n",
    "right = mean_value_short + t_q_n_minus_one * math.sqrt(biased_variance_short) / (math.sqrt(n_minus_one))\n",
    "\n",
    "print(f\"{left} < m_x < {right}\")\n"
   ]
  },
  {
   "cell_type": "markdown",
   "metadata": {},
   "source": [
    "В результате получили доверительный интервал для математического ожидания\n",
    "с доверительной вероятностью p=1-q=0,95."
   ]
  },
  {
   "cell_type": "markdown",
   "metadata": {},
   "source": [
    "Доверительный интервал для дисперсии 𝜎 2 и 𝜎 среднеквадратического\n",
    "отклонения."
   ]
  },
  {
   "cell_type": "code",
   "execution_count": 269,
   "metadata": {},
   "outputs": [
    {
     "name": "stdout",
     "output_type": "stream",
     "text": [
      "p1 = 0.98\n",
      "p2 = 0.02\n",
      "\n"
     ]
    }
   ],
   "source": [
    "p1 = 1 - (1 / 2) * ((short_q - 1) / 100) \n",
    "p2 = (1 / 2) * ((short_q - 1)/ 100) \n",
    "\n",
    "print(f\"p1 = {p1}\\np2 = {p2}\\n\")\n",
    "\n",
    "# !!!!! приложение 2\n",
    "xi_12 = 8.567\n",
    "xi_22 = 33.687 "
   ]
  },
  {
   "cell_type": "code",
   "execution_count": 270,
   "metadata": {},
   "outputs": [
    {
     "name": "stdout",
     "output_type": "stream",
     "text": [
      "62.58470673878648 < q_x^2 < 246.0944339803315\n",
      "7.911049660998626 < q_x^2 < 15.687397297841713\n"
     ]
    }
   ],
   "source": [
    "q_left = (short_num * biased_variance_short) / xi_22\n",
    "q_right = (short_num * biased_variance_short) / xi_12\n",
    "\n",
    "print(f\"{q_left} < q_x^2 < {q_right}\")\n",
    "\n",
    "q_left_sqrt = math.sqrt(q_left)\n",
    "q_right_sqrt = math.sqrt(q_right)\n",
    "\n",
    "print(f\"{q_left_sqrt} < q_x^2 < {q_right_sqrt}\")\n"
   ]
  },
  {
   "cell_type": "markdown",
   "metadata": {},
   "source": [
    "Используя вышеприведенную методику, мы определили доверительные\n",
    "интервалы для дисперсии и среднеквадратического отклонения на\n",
    "доверительном уровне 0,98."
   ]
  },
  {
   "cell_type": "markdown",
   "metadata": {},
   "source": [
    "### УПРОЩЕННЫЙ МЕТОД ПРОВЕРКИ ГИПОТЕЗЫ О НОРМАЛЬНОСТИ ЗАКОНА РАСПРЕДЕЛЕНИЯ НА ОСНОВЕ СРАВНЕНИЯ АСИММЕТРИИ И ЭКСЦЕССА"
   ]
  },
  {
   "cell_type": "code",
   "execution_count": 271,
   "metadata": {},
   "outputs": [
    {
     "name": "stdout",
     "output_type": "stream",
     "text": [
      "q_s_k = 0.23895379004082073\n",
      "q_e_k = 0.4639338588152939\n",
      "s_k = -0.19983139829145496\n",
      "e_k = -0.07614126810561528\n"
     ]
    }
   ],
   "source": [
    "n = len(new_data)\n",
    "\n",
    "q_s_k = math.sqrt((6 * (n - 1)) / ((n + 1) * (n + 3)))\n",
    "q_e_k = math.sqrt((24 * n *  (n - 2) *  (n - 3)) / (pow((n - 1), 2) * (n + 3) * (n + 5)))\n",
    "\n",
    "\n",
    "print(f\"q_s_k = {q_s_k}\")\n",
    "print(f\"q_e_k = {q_e_k}\")\n",
    "\n",
    "\n",
    "print(f\"s_k = {s_k}\")\n",
    "print(f\"e_k = {e_k}\")"
   ]
  },
  {
   "cell_type": "markdown",
   "metadata": {},
   "source": [
    "Оценив эти величины, можно определить, насколько наши оценки\n",
    "асимметрии и эксцесса существенны для принятия решения о нормальном законе\n",
    "распределения. "
   ]
  },
  {
   "cell_type": "markdown",
   "metadata": {},
   "source": [
    " На основе неравенства Чебышева получают критические области\n",
    "для асимметрии и эксцесса: |𝑆_𝑘 | > 3𝜎_s_k, |𝐸_𝑘 | > 5𝜎_e_k "
   ]
  },
  {
   "cell_type": "code",
   "execution_count": 272,
   "metadata": {},
   "outputs": [
    {
     "name": "stdout",
     "output_type": "stream",
     "text": [
      "True\n",
      "True\n"
     ]
    }
   ],
   "source": [
    "print(abs(s_k) < 3 * q_s_k)\n",
    "print(abs(e_k) < 5 * q_e_k)\n"
   ]
  },
  {
   "cell_type": "markdown",
   "metadata": {},
   "source": [
    "мы видим, что ранее вычисленные не попадают в критическую область, что говорит о том, что\n",
    "гипотеза о нормальном законе распределения не противоречит\n",
    "этому критерию"
   ]
  },
  {
   "cell_type": "markdown",
   "metadata": {},
   "source": [
    "### КРИТЕРИЙ ХИ-КВАДРАТ ДЛЯ ПРОВЕРКИ СТАТИСТИЧЕСКИХ ГИПОТЕЗ"
   ]
  },
  {
   "cell_type": "code",
   "execution_count": 273,
   "metadata": {},
   "outputs": [
    {
     "name": "stdout",
     "output_type": "stream",
     "text": [
      "F(0.838780183065206) = 0.7992036634383644\n"
     ]
    }
   ],
   "source": [
    "from scipy.stats import norm\n",
    "# Параметры распределения Лапласа\n",
    "mu = 0  # среднее\n",
    "b = 1   # масштаб\n",
    "\n",
    "# Значение, для которого нужно вычислить CDF\n",
    "x = 0.838780183065206\n",
    "\n",
    "# Вычисление CDF\n",
    "F_x = norm.cdf(x)\n",
    "\n",
    "print(f\"F({x}) = {F_x}\")\n",
    "#for i, (interval, numbers) in enumerate(results.items()):    \n",
    "#    print(i + 1, f\"Ф({(interval[1] - mean_value) / s}) - Ф({(interval[0] - mean_value) / s})\")\n"
   ]
  },
  {
   "cell_type": "code",
   "execution_count": 287,
   "metadata": {},
   "outputs": [
    {
     "name": "stdout",
     "output_type": "stream",
     "text": [
      "Вероятность 0.7992036634383644\n",
      "1 Ф(-2.1808082852091943) - Ф(-2.6121780663912517)\n",
      "2 Ф(-1.7494385040271372) - Ф(-2.1808082852091943)\n",
      "3 Ф(-1.31806872284508) - Ф(-1.7494385040271372)\n",
      "4 Ф(-0.886698941663023) - Ф(-1.31806872284508)\n",
      "5 Ф(-0.4553291604809656) - Ф(-0.886698941663023)\n",
      "6 Ф(-0.023959379298908397) - Ф(-0.4553291604809656)\n",
      "7 Ф(0.40741040188314886) - Ф(-0.023959379298908397)\n",
      "8 Ф(0.838780183065206) - Ф(0.40741040188314886)\n",
      "9 Ф(1.2701499642472631) - Ф(0.838780183065206)\n",
      "10 Ф(1.7015197454293203) - Ф(1.2701499642472631)\n",
      "11 Ф(2.1328895266113777) - Ф(1.7015197454293203)\n",
      "12 Ф(2.5642593077934346) - Ф(2.1328895266113777)\n"
     ]
    }
   ],
   "source": [
    "import scipy.stats as stats\n",
    "\n",
    "# Параметры нормального распределения\n",
    "mu =  -0.4993  # математическое ожидание\n",
    "sigma = 1  # стандартное отклонение\n",
    "\n",
    "# Границы интервала\n",
    "alpha = -1\n",
    "beta = 1\n",
    "\n",
    "# Вычисление вероятности\n",
    "p_alpha = stats.norm.cdf(0.838780183065206)\n",
    "\n",
    "\n",
    "print(f\"Вероятность {p_alpha}\")\n",
    "\n",
    "for i, (interval, numbers) in enumerate(results.items()):    \n",
    "    print(i + 1, f\"Ф({(interval[1] - mean_value) / s}) - Ф({(interval[0] - mean_value) / s})\")\n"
   ]
  },
  {
   "attachments": {
    "image.png": {
     "image/png": "[encoded data removed]"
    }
   },
   "cell_type": "markdown",
   "metadata": {},
   "source": [
    "![image.png](attachment:image.png)"
   ]
  },
  {
   "attachments": {
    "image.png": {
     "image/png": "[encoded data removed]"
    }
   },
   "cell_type": "markdown",
   "metadata": {},
   "source": [
    "![image.png](attachment:image.png)"
   ]
  },
  {
   "cell_type": "markdown",
   "metadata": {},
   "source": [
    "### ПРОВЕРКА ГИПОТЕЗЫ ОБ ОДНОРОДНОСТИ ВЫБОРКИ НА ОСНОВЕ КРИТЕРИЕВ ЗНАКОВ И ВИЛКОКСОНА"
   ]
  },
  {
   "cell_type": "code",
   "execution_count": 274,
   "metadata": {},
   "outputs": [
    {
     "name": "stdout",
     "output_type": "stream",
     "text": [
      "k_plus = 9\n",
      "k_minus = 11\n"
     ]
    }
   ],
   "source": [
    "first_20 = new_data[:20]\n",
    "last_20 = new_data[-20:]\n",
    "\n",
    "z_i = []\n",
    "\n",
    "for i in range(20):\n",
    "    z_i.append(first_20[i] - last_20[i])\n",
    "\n",
    "k_plus = 0\n",
    "k_minus = 0\n",
    "\n",
    "for el in z_i:\n",
    "    if el >= 0:\n",
    "        k_plus += 1\n",
    "    else:\n",
    "        k_minus += 1\n",
    "\n",
    "\n",
    "print(f\"k_plus = {k_plus}\")\n",
    "print(f\"k_minus = {k_minus}\")"
   ]
  },
  {
   "cell_type": "markdown",
   "metadata": {},
   "source": [
    "Если меньшее число знаков из\n",
    "𝑘𝑛 (+) и 𝑘𝑛 (−) меньше 𝑚\n",
    " ̅ 𝑛 , то гипотеза 𝐻 0 отвергается, а если меньшее\n",
    "число знаков из 𝑘𝑛 (+) и 𝑘𝑛 (−) окажется больше 𝑚\n",
    " ̅ 𝑛 , то гипотеза 𝐻 0 не\n",
    "противоречит данным выборки."
   ]
  },
  {
   "cell_type": "markdown",
   "metadata": {},
   "source": [
    "В нашем случае для выборки n=20 𝑘𝑛 (+) =\n",
    "9 и 𝑘𝑛 (−) = 11. В таблице приложение 4 находим для n=20 и\n",
    "𝑞 = 5% находим 𝑚\n",
    " ̅ 20 = 5"
   ]
  },
  {
   "cell_type": "code",
   "execution_count": null,
   "metadata": {},
   "outputs": [
    {
     "name": "stdout",
     "output_type": "stream",
     "text": [
      "[(1, -23.39), (2, -22.88), (1, -18.12), (2, -12.48), (1, -11.8), (2, -10.97), (1, -9.895), (1, -8.425), (2, -7.923), (2, -4.798), (1, -4.782), (1, -3.736), (1, -3.451), (2, -3.151), (2, -3.083), (1, -0.6512), (2, 0.01614), (1, 0.2725), (2, 0.4284), (1, 0.6528), (2, 1.304), (1, 1.817), (1, 2.228), (1, 3.039), (2, 3.559), (2, 3.827), (1, 4.136), (1, 4.783), (2, 5.637), (1, 6.959), (2, 7.46), (2, 8.487), (2, 8.617), (2, 8.849), (1, 10.58), (1, 10.98), (2, 12.21), (2, 12.22), (1, 23.42), (2, 24.31)]\n"
     ]
    },
    {
     "data": {
      "text/plain": [
       "168"
      ]
     },
     "execution_count": 280,
     "metadata": {},
     "output_type": "execute_result"
    }
   ],
   "source": [
    "prep = []\n",
    "\n",
    "for el in first_20:\n",
    "    prep.append((1, el))\n",
    "\n",
    "for el in last_20:\n",
    "    prep.append((2, el))\n",
    "\n",
    "def custom_sort(x):\n",
    "    return x[1] \n",
    "\n",
    "prep.sort(key=custom_sort)\n",
    "\n",
    "inv_cnt = 0\n",
    "\n",
    "first_bef = 0\n",
    "last_bef = 0\n",
    "\n",
    "print(prep)\n",
    "\n",
    "for i in range(len(prep) - 1):\n",
    "    if prep[i][0] == 1:\n",
    "        inv_cnt += last_bef\n",
    "        first_bef += 1\n",
    "    elif prep[i][0] == 2:\n",
    "        last_bef += 1\n",
    "\n",
    "inv_cnt"
   ]
  },
  {
   "cell_type": "code",
   "execution_count": 276,
   "metadata": {},
   "outputs": [
    {
     "name": "stdout",
     "output_type": "stream",
     "text": [
      "m_u = 200\n",
      "d_u = 1367\n",
      "q_u = 37\n"
     ]
    }
   ],
   "source": [
    "m_u = round(pow(20, 2) / 2)\n",
    "d_u = round(pow(20, 2) / 12 * (20 * 2 + 1))\n",
    "q_u = round(math.sqrt(d_u))\n",
    "\n",
    "print(f\"m_u = {m_u}\")\n",
    "print(f\"d_u = {d_u}\")\n",
    "print(f\"q_u = {q_u}\")"
   ]
  },
  {
   "cell_type": "markdown",
   "metadata": {},
   "source": [
    "функция Лапласа, из которой по таблице в приложении 3\n",
    "найдем значение 𝑡 𝑞"
   ]
  },
  {
   "cell_type": "code",
   "execution_count": 277,
   "metadata": {},
   "outputs": [],
   "source": [
    "# 𝑞 = 1 − 2Ф( (1 - 0.05) / 2) = 0.475\n",
    "f_t = 0.475"
   ]
  },
  {
   "cell_type": "markdown",
   "metadata": {},
   "source": [
    "𝑡𝑞 по таблице в приложении 3 находим равному 𝑡𝑞 = 1,96 ."
   ]
  },
  {
   "cell_type": "code",
   "execution_count": 278,
   "metadata": {},
   "outputs": [],
   "source": [
    "t_q = 1.96"
   ]
  },
  {
   "cell_type": "code",
   "execution_count": 281,
   "metadata": {},
   "outputs": [
    {
     "name": "stdout",
     "output_type": "stream",
     "text": [
      "u1 = 127.48\n",
      "u2 = 272.52\n",
      "uu = 168\n"
     ]
    }
   ],
   "source": [
    "u1 = m_u - t_q * q_u\n",
    "u2 = m_u + t_q * q_u\n",
    "\n",
    "print(f\"u1 = {u1}\")\n",
    "print(f\"u2 = {u2}\")\n",
    "print(f\"uu = {inv_cnt}\")\n"
   ]
  }
 ],
 "metadata": {
  "kernelspec": {
   "display_name": ".venv",
   "language": "python",
   "name": "python3"
  },
  "language_info": {
   "codemirror_mode": {
    "name": "ipython",
    "version": 3
   },
   "file_extension": ".py",
   "mimetype": "text/x-python",
   "name": "python",
   "nbconvert_exporter": "python",
   "pygments_lexer": "ipython3",
   "version": "3.13.1"
  }
 },
 "nbformat": 4,
 "nbformat_minor": 2
}
