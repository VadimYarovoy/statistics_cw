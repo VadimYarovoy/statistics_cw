{
 "cells": [
  {
   "cell_type": "code",
   "execution_count": 84,
   "metadata": {},
   "outputs": [],
   "source": [
    "import statistics\n",
    "import math\n",
    "import matplotlib.pyplot as plt"
   ]
  },
  {
   "cell_type": "code",
   "execution_count": 85,
   "metadata": {},
   "outputs": [
    {
     "name": "stdout",
     "output_type": "stream",
     "text": [
      "    № изм., 1  Откл., 1  № изм., 2  Откл., 2  № изм., 3  Откл., 3  № изм., 4  \\\n",
      "0           1    3.7640         21  -0.05884         41  -0.29930         61   \n",
      "1           2  -21.0000         22   8.52600         42 -15.31000         62   \n",
      "2           3    1.7390         23  -7.36500         43  16.16000         63   \n",
      "3           4   -5.2180         24   0.64830         44   4.85500         64   \n",
      "4           5    0.2964         25   9.70400         45  -6.22400         65   \n",
      "5           6   -6.4570         26 -19.98000         46  -2.49600         66   \n",
      "6           7   -3.1130         27   3.10600         47 -11.02000         67   \n",
      "7           8   -1.8760         28  10.63000         48   9.46500         68   \n",
      "8           9    5.2030         29   8.23300         49  -6.79300         69   \n",
      "9          10   13.3400         30   7.55500         50  -9.38800         70   \n",
      "10         11   13.0500         31  -4.53700         51   3.34500         71   \n",
      "11         12  -18.9400         32  -1.30200         52   6.63800         72   \n",
      "12         13   15.8800         33  -3.61900         53  -2.21300         73   \n",
      "13         14    5.4800         34  22.50000         54  -2.33700         74   \n",
      "14         15   -8.1350         35   1.24600         55   8.80800         75   \n",
      "15         16    7.1730         36  10.32000         56  -0.27130         76   \n",
      "16         17    0.2326         37 -12.40000         57  -6.95600         77   \n",
      "17         18   10.2400         38   7.12800         58   0.08487         78   \n",
      "18         19   13.7300         39  -0.66410         59   2.52900         79   \n",
      "19         20    6.8770         40 -17.62000         60   8.58900         80   \n",
      "\n",
      "    Откл., 4  № изм., 5  Откл., 5  \n",
      "0     -4.961         81   6.24900  \n",
      "1     10.220         82  12.14000  \n",
      "2    -12.920         83  -7.64400  \n",
      "3     -4.692         84  22.20000  \n",
      "4    -13.310         85 -10.52000  \n",
      "5     16.570         86   4.67200  \n",
      "6      2.504         87  -3.87000  \n",
      "7      5.199         88  -6.03900  \n",
      "8     -4.083         89   7.85400  \n",
      "9     -1.496         90   4.28700  \n",
      "10     7.582         91 -14.66000  \n",
      "11    -3.176         92 -18.21000  \n",
      "12    21.530         93  12.22000  \n",
      "13     5.293         94 -22.16000  \n",
      "14    -8.057         95  16.00000  \n",
      "15     9.524         96  -4.90000  \n",
      "16    -2.496         97   5.53600  \n",
      "17   -10.820         98   0.06836  \n",
      "18   -18.420         99  -9.76700  \n",
      "19    -4.148        100   5.48100  \n",
      "Строка 0:\n",
      "Данные: [ 1.000e+00  3.764e+00  2.100e+01 -5.884e-02  4.100e+01 -2.993e-01\n",
      "  6.100e+01 -4.961e+00  8.100e+01  6.249e+00]\n",
      "------\n",
      "\n",
      "Строка 1:\n",
      "Данные: [  2.    -21.     22.      8.526  42.    -15.31   62.     10.22   82.\n",
      "  12.14 ]\n",
      "------\n",
      "\n",
      "Строка 2:\n",
      "Данные: [  3.      1.739  23.     -7.365  43.     16.16   63.    -12.92   83.\n",
      "  -7.644]\n",
      "------\n",
      "\n",
      "Строка 3:\n",
      "Данные: [ 4.     -5.218  24.      0.6483 44.      4.855  64.     -4.692  84.\n",
      " 22.2   ]\n",
      "------\n",
      "\n",
      "Строка 4:\n",
      "Данные: [  5.       0.2964  25.       9.704   45.      -6.224   65.     -13.31\n",
      "  85.     -10.52  ]\n",
      "------\n",
      "\n",
      "Строка 5:\n",
      "Данные: [  6.     -6.457  26.    -19.98   46.     -2.496  66.     16.57   86.\n",
      "   4.672]\n",
      "------\n",
      "\n",
      "Строка 6:\n",
      "Данные: [  7.     -3.113  27.      3.106  47.    -11.02   67.      2.504  87.\n",
      "  -3.87 ]\n",
      "------\n",
      "\n",
      "Строка 7:\n",
      "Данные: [ 8.    -1.876 28.    10.63  48.     9.465 68.     5.199 88.    -6.039]\n",
      "------\n",
      "\n",
      "Строка 8:\n",
      "Данные: [ 9.     5.203 29.     8.233 49.    -6.793 69.    -4.083 89.     7.854]\n",
      "------\n",
      "\n",
      "Строка 9:\n",
      "Данные: [10.    13.34  30.     7.555 50.    -9.388 70.    -1.496 90.     4.287]\n",
      "------\n",
      "\n",
      "Строка 10:\n",
      "Данные: [ 11.     13.05   31.     -4.537  51.      3.345  71.      7.582  91.\n",
      " -14.66 ]\n",
      "------\n",
      "\n",
      "Строка 11:\n",
      "Данные: [ 12.    -18.94   32.     -1.302  52.      6.638  72.     -3.176  92.\n",
      " -18.21 ]\n",
      "------\n",
      "\n",
      "Строка 12:\n",
      "Данные: [13.    15.88  33.    -3.619 53.    -2.213 73.    21.53  93.    12.22 ]\n",
      "------\n",
      "\n",
      "Строка 13:\n",
      "Данные: [ 14.      5.48   34.     22.5    54.     -2.337  74.      5.293  94.\n",
      " -22.16 ]\n",
      "------\n",
      "\n",
      "Строка 14:\n",
      "Данные: [15.    -8.135 35.     1.246 55.     8.808 75.    -8.057 95.    16.   ]\n",
      "------\n",
      "\n",
      "Строка 15:\n",
      "Данные: [16.      7.173  36.     10.32   56.     -0.2713 76.      9.524  96.\n",
      " -4.9   ]\n",
      "------\n",
      "\n",
      "Строка 16:\n",
      "Данные: [ 17.       0.2326  37.     -12.4     57.      -6.956   77.      -2.496\n",
      "  97.       5.536 ]\n",
      "------\n",
      "\n",
      "Строка 17:\n",
      "Данные: [ 1.800e+01  1.024e+01  3.800e+01  7.128e+00  5.800e+01  8.487e-02\n",
      "  7.800e+01 -1.082e+01  9.800e+01  6.836e-02]\n",
      "------\n",
      "\n",
      "Строка 18:\n",
      "Данные: [ 19.      13.73    39.      -0.6641  59.       2.529   79.     -18.42\n",
      "  99.      -9.767 ]\n",
      "------\n",
      "\n",
      "Строка 19:\n",
      "Данные: [ 20.      6.877  40.    -17.62   60.      8.589  80.     -4.148 100.\n",
      "   5.481]\n",
      "------\n",
      "\n",
      "[$1$], [$3.764$], [$21$], [$-0.05884$], [$41$], [$-0.2993$], [$61$], [$-4.961$], [$81$], [$6.249$], \n",
      "[$2$], [$-21.0$], [$22$], [$8.526$], [$42$], [$-15.31$], [$62$], [$10.22$], [$82$], [$12.14$], \n",
      "[$3$], [$1.739$], [$23$], [$-7.365$], [$43$], [$16.16$], [$63$], [$-12.92$], [$83$], [$-7.644$], \n",
      "[$4$], [$-5.218$], [$24$], [$0.6483$], [$44$], [$4.855$], [$64$], [$-4.692$], [$84$], [$22.2$], \n",
      "[$5$], [$0.2964$], [$25$], [$9.704$], [$45$], [$-6.224$], [$65$], [$-13.31$], [$85$], [$-10.52$], \n",
      "[$6$], [$-6.457$], [$26$], [$-19.98$], [$46$], [$-2.496$], [$66$], [$16.57$], [$86$], [$4.672$], \n",
      "[$7$], [$-3.113$], [$27$], [$3.106$], [$47$], [$-11.02$], [$67$], [$2.504$], [$87$], [$-3.87$], \n",
      "[$8$], [$-1.876$], [$28$], [$10.63$], [$48$], [$9.465$], [$68$], [$5.199$], [$88$], [$-6.039$], \n",
      "[$9$], [$5.203$], [$29$], [$8.233$], [$49$], [$-6.793$], [$69$], [$-4.083$], [$89$], [$7.854$], \n",
      "[$10$], [$13.34$], [$30$], [$7.555$], [$50$], [$-9.388$], [$70$], [$-1.496$], [$90$], [$4.287$], \n",
      "[$11$], [$13.05$], [$31$], [$-4.537$], [$51$], [$3.345$], [$71$], [$7.582$], [$91$], [$-14.66$], \n",
      "[$12$], [$-18.94$], [$32$], [$-1.302$], [$52$], [$6.638$], [$72$], [$-3.176$], [$92$], [$-18.21$], \n",
      "[$13$], [$15.88$], [$33$], [$-3.619$], [$53$], [$-2.213$], [$73$], [$21.53$], [$93$], [$12.22$], \n",
      "[$14$], [$5.48$], [$34$], [$22.5$], [$54$], [$-2.337$], [$74$], [$5.293$], [$94$], [$-22.16$], \n",
      "[$15$], [$-8.135$], [$35$], [$1.246$], [$55$], [$8.808$], [$75$], [$-8.057$], [$95$], [$16.0$], \n",
      "[$16$], [$7.173$], [$36$], [$10.32$], [$56$], [$-0.2713$], [$76$], [$9.524$], [$96$], [$-4.9$], \n",
      "[$17$], [$0.2326$], [$37$], [$-12.4$], [$57$], [$-6.956$], [$77$], [$-2.496$], [$97$], [$5.536$], \n",
      "[$18$], [$10.24$], [$38$], [$7.128$], [$58$], [$0.08487$], [$78$], [$-10.82$], [$98$], [$0.06836$], \n",
      "[$19$], [$13.73$], [$39$], [$-0.6641$], [$59$], [$2.529$], [$79$], [$-18.42$], [$99$], [$-9.767$], \n",
      "[$20$], [$6.877$], [$40$], [$-17.62$], [$60$], [$8.589$], [$80$], [$-4.148$], [$100$], [$5.481$], \n"
     ]
    }
   ],
   "source": [
    "import pandas as pd\n",
    "\n",
    "# Чтение файла\n",
    "df = pd.read_excel('/home/yarovoy/Documents/polytech/term_2/stats/statistics_cw/data/yarovoy_var.ods', engine='odf')\n",
    "\n",
    "# Вывод первых 5 строк\n",
    "\n",
    "# for i in df:\n",
    "#     print(i)\n",
    "# # print(df.head())\n",
    "\n",
    "# # Открываем ODT файл\n",
    "# # odt_file = OpenDocumentText(\"../data/yarovoy_var.odt\")\n",
    "\n",
    "data = []\n",
    "\n",
    "print(df)\n",
    "\n",
    "for index, row in df.iterrows():\n",
    "    # row - это объект Series, содержащий данные строки\n",
    "    print(f\"Строка {index}:\")\n",
    "    print(f\"Данные: {row.values}\")  # Все значения строки\n",
    "    print(\"------\")\n",
    "    data.append([float(i) for i in (row.values)])\n",
    "    print()\n",
    "\n",
    "data\n",
    "\n",
    "\n",
    "for i in data:\n",
    "    for idx, elem in enumerate(i):\n",
    "        if idx % 2 == 0:\n",
    "            print(f\"[${int(elem)}$]\", end=\", \")\n",
    "        else:\n",
    "            print(f\"[${elem}$]\", end=\", \")\n",
    "\n",
    "    print()"
   ]
  },
  {
   "cell_type": "code",
   "execution_count": 86,
   "metadata": {},
   "outputs": [],
   "source": [
    "# data = [\n",
    "#     [1, 3.039  , 21, -1.155, 41, -13.58 , 61, -2.313, 81 , 3.827 ],\n",
    "#     [2, -3.451 , 22, -3.497, 42, 8.596  , 62, -13.98, 82 , 12.22 ],\n",
    "#     [3, -0.6512, 23, 1.485 , 43, 14     , 63, -2.868, 83 , -4.798],\n",
    "#     [4, -3.736 , 24, -8.303, 44, -14.96 , 64, 18.5  , 84 , 0.4284],\n",
    "#     [5, -11.8  , 25, 8.898 , 45, 0.8914 , 65, -12.37, 85 , 12.21 ],\n",
    "#     [6, -4.782 , 26, 9.027 , 46, -10.24 , 66, -2.067, 86 , -7.923],\n",
    "#     [7, -8.425 , 27, -4.556, 47, 0.5625 , 67, -12.61, 87 , 24.31 ],\n",
    "#     [8, 0.2725 , 28, 0.3619, 48, -8.08  , 68, -11.15, 88 , 7.46  ],\n",
    "#     [9, 0.6528 , 29, 0.0917, 49, 7.347  , 69, -10.63, 89 , -3.151],\n",
    "#     [10, 1.817 , 30, 7.157 , 50, -26.74 , 70, 11.84 , 90 , 8.617 ],\n",
    "#     [11, 4.136 , 31, 11.56 , 51, 1.591  , 71, -18.9 , 91 , -22.88],\n",
    "#     [12, 4.783 , 32, 7.61  , 52, 1.699  , 72, -7.28 , 92 , 0.01614],\n",
    "#     [13, 23.42 , 33, -8.621, 53, -10.01 , 73, 3.9   , 93 , 1.304 ],\n",
    "#     [14, -18.12, 34, 15.7  , 54, -0.1007, 74, -2.958, 94 , -3.083],\n",
    "#     [15, 6.959 , 35, 18.84 , 55, -2.655 , 75, 2.791 , 95 , 8.849 ],\n",
    "#     [16, -23.39, 36, -15.55, 56, -6.989 , 76, 12.99 , 96 , -12.48],\n",
    "#     [17, -9.895, 37, -8.372, 57, -4.335 , 77, -1.7  , 97 , 3.559 ],\n",
    "#     [18, 2.228 , 38, -4.289, 58, 9.558  , 78, 9.272 , 98 , -10.97],\n",
    "#     [19, 10.98 , 39, -0.113, 59, -17.33 , 79, -6.947, 99 , 5.637 ],\n",
    "#     [20, 10.58 , 40, 11.28 , 60, 6.132  , 80, 7.38  , 100, 8.487 ]\n",
    "# ]"
   ]
  },
  {
   "cell_type": "code",
   "execution_count": 87,
   "metadata": {},
   "outputs": [],
   "source": [
    "new_data = []\n",
    "\n",
    "for i in range(1, 10, 2):\n",
    "    for c in data:\n",
    "        new_data.append(c[i])\n"
   ]
  },
  {
   "cell_type": "code",
   "execution_count": 88,
   "metadata": {},
   "outputs": [
    {
     "data": {
      "text/plain": [
       "100"
      ]
     },
     "execution_count": 88,
     "metadata": {},
     "output_type": "execute_result"
    }
   ],
   "source": [
    "len(new_data)"
   ]
  },
  {
   "cell_type": "code",
   "execution_count": 89,
   "metadata": {},
   "outputs": [
    {
     "name": "stdout",
     "output_type": "stream",
     "text": [
      "mean_value: 0.4026299\n",
      "my_mean_value 0.40262989999999993\n"
     ]
    }
   ],
   "source": [
    "def my_mean(data):\n",
    "    return sum(data) / len(data)\n",
    "\n",
    "\n",
    "mean_value = statistics.mean(new_data)\n",
    "my_mean_value = my_mean(new_data)\n",
    "\n",
    "print(\"mean_value:\", mean_value)\n",
    "print(\"my_mean_value\", my_mean_value)\n"
   ]
  },
  {
   "cell_type": "code",
   "execution_count": 90,
   "metadata": {},
   "outputs": [
    {
     "name": "stdout",
     "output_type": "stream",
     "text": [
      "Смещенная дисперсия: 98.54701622114699\n",
      "Несмещенная дисперсия: 99.5424406274212\n"
     ]
    }
   ],
   "source": [
    "# Вычисление несмещенной дисперсии\n",
    "unbiased_variance = statistics.variance(new_data)\n",
    "\n",
    "# Вычисление смещенной дисперсии\n",
    "biased_variance = statistics.pvariance(new_data)\n",
    "\n",
    "print(\"Смещенная дисперсия:\", biased_variance)\n",
    "print(\"Несмещенная дисперсия:\", unbiased_variance)"
   ]
  },
  {
   "cell_type": "code",
   "execution_count": 91,
   "metadata": {},
   "outputs": [
    {
     "name": "stdout",
     "output_type": "stream",
     "text": [
      "Медиана: 0.15873500000000001\n"
     ]
    }
   ],
   "source": [
    "median = statistics.median(new_data)\n",
    "print(\"Медиана:\", median)\n"
   ]
  },
  {
   "cell_type": "markdown",
   "metadata": {},
   "source": [
    "Размах варьирования (широта распределения) R это разность между\n",
    "наибольшим и наименьшим значениями вариационного ряда:"
   ]
  },
  {
   "cell_type": "code",
   "execution_count": 92,
   "metadata": {},
   "outputs": [
    {
     "name": "stdout",
     "output_type": "stream",
     "text": [
      "R: 45\n"
     ]
    }
   ],
   "source": [
    "x_max = max(new_data)\n",
    "x_min = min(new_data)\n",
    "\n",
    "r = math.ceil(x_max - x_min)\n",
    "print(\"R:\", (r))"
   ]
  },
  {
   "cell_type": "markdown",
   "metadata": {},
   "source": [
    "### ГРУППИРОВАНИЕ, ГРАФИКИ СТАТИСТИЧЕСКИХ РАСПРЕДЕЛЕНИЙ"
   ]
  },
  {
   "cell_type": "markdown",
   "metadata": {},
   "source": [
    "- Выбор количества интервалов\n",
    "- рекомендуется брать от 10 до 20 интервалов l.\n",
    "- При предположении о нормальном законе распределения, величину l берут равной 12-15\n"
   ]
  },
  {
   "cell_type": "code",
   "execution_count": 93,
   "metadata": {},
   "outputs": [
    {
     "data": {
      "text/plain": [
       "3.75"
      ]
     },
     "execution_count": 93,
     "metadata": {},
     "output_type": "execute_result"
    }
   ],
   "source": [
    "l = 12\n",
    "delta_x = r / l\n",
    "delta_x"
   ]
  },
  {
   "cell_type": "code",
   "execution_count": 94,
   "metadata": {},
   "outputs": [
    {
     "name": "stdout",
     "output_type": "stream",
     "text": [
      "-22.16 22.5\n",
      "[$1$], [$-22.16:-18.41$], [$5$], [$0.05$], [$-20.285$],\n",
      "[$2$], [$-18.41:-14.66$], [$3$], [$0.03$], [$-16.535$],\n",
      "[$3$], [$-14.66:-10.91$], [$5$], [$0.05$], [$-12.785$],\n",
      "[$4$], [$-10.91:-7.16$], [$8$], [$0.08$], [$-9.035$],\n",
      "[$5$], [$-7.16:-3.41$], [$14$], [$0.14$], [$-5.285$],\n",
      "[$6$], [$-3.41:0.33999999999999986$], [$17$], [$0.17$], [$-1.5350000000000001$],\n",
      "[$7$], [$0.33999999999999986:4.09$], [$8$], [$0.08$], [$2.215$],\n",
      "[$8$], [$4.09:7.84$], [$16$], [$0.16$], [$5.965$],\n",
      "[$9$], [$7.84:11.59$], [$12$], [$0.12$], [$9.715$],\n",
      "[$10$], [$11.59:15.34$], [$5$], [$0.05$], [$13.465$],\n",
      "[$11$], [$15.34:19.09$], [$4$], [$0.04$], [$17.215$],\n",
      "[$12$], [$19.09:22.84$], [$3$], [$0.03$], [$20.965$],\n"
     ]
    }
   ],
   "source": [
    "sorted_data = sorted(new_data)\n",
    "\n",
    "min_value = min(sorted_data)\n",
    "max_value = max(sorted_data)\n",
    "\n",
    "print(min_value, max_value)\n",
    "\n",
    "\n",
    "intervals = []\n",
    "\n",
    "x_axe_tick = []\n",
    "x_axe_tick.append(min_value)\n",
    "\n",
    "# Создаем интервалы\n",
    "while min_value < max_value:\n",
    "    intervals.append((min_value, min_value + delta_x))\n",
    "    min_value += delta_x\n",
    "    x_axe_tick.append(min_value)\n",
    "\n",
    "results = {interval: [] for interval in intervals}\n",
    "\n",
    "# Разделяем данные по интервалам\n",
    "for number in sorted_data:\n",
    "    for interval in intervals:\n",
    "        if interval[0] <= number and number < interval[1]:\n",
    "            results[interval].append(number)\n",
    "\n",
    "# Частотность\n",
    "frec = []\n",
    "x_axe = []\n",
    "\n",
    "x_with_avg = [x_min]\n",
    "\n",
    "int_num = 1\n",
    "\n",
    "for interval, numbers in results.items():\n",
    "    frec.append(len(numbers) / 100)\n",
    "    x_axe.append((interval[0] + interval[1]) / 2)\n",
    "    x_with_avg.append((interval[0] + interval[1]) / 2)\n",
    "    # print(f\"Интервал {interval}: Частотность {len(numbers) / 100}, середина {(interval[0] + interval[1]) / 2}\")\n",
    "    print(f\"[${int_num}$], [${interval[0]}:{interval[1]}$], [${len(numbers)}$], [${len(numbers) / 100}$], [${(interval[0] + interval[1]) / 2}$],\")\n",
    "    int_num += 1\n",
    "\n",
    "#\n",
    "# \n",
    "# Что это?\n",
    "#\n",
    "x_with_avg.append(22.84)"
   ]
  },
  {
   "cell_type": "code",
   "execution_count": 95,
   "metadata": {},
   "outputs": [
    {
     "data": {
      "text/plain": [
       "[-22.16,\n",
       " -21.0,\n",
       " -19.98,\n",
       " -18.94,\n",
       " -18.42,\n",
       " -18.21,\n",
       " -17.62,\n",
       " -15.31,\n",
       " -14.66,\n",
       " -13.31,\n",
       " -12.92,\n",
       " -12.4,\n",
       " -11.02,\n",
       " -10.82,\n",
       " -10.52,\n",
       " -9.767,\n",
       " -9.388,\n",
       " -8.135,\n",
       " -8.057,\n",
       " -7.644,\n",
       " -7.365,\n",
       " -6.956,\n",
       " -6.793,\n",
       " -6.457,\n",
       " -6.224,\n",
       " -6.039,\n",
       " -5.218,\n",
       " -4.961,\n",
       " -4.9,\n",
       " -4.692,\n",
       " -4.537,\n",
       " -4.148,\n",
       " -4.083,\n",
       " -3.87,\n",
       " -3.619,\n",
       " -3.176,\n",
       " -3.113,\n",
       " -2.496,\n",
       " -2.496,\n",
       " -2.337,\n",
       " -2.213,\n",
       " -1.876,\n",
       " -1.496,\n",
       " -1.302,\n",
       " -0.6641,\n",
       " -0.2993,\n",
       " -0.2713,\n",
       " -0.05884,\n",
       " 0.06836,\n",
       " 0.08487,\n",
       " 0.2326,\n",
       " 0.2964,\n",
       " 0.6483,\n",
       " 1.246,\n",
       " 1.739,\n",
       " 2.504,\n",
       " 2.529,\n",
       " 3.106,\n",
       " 3.345,\n",
       " 3.764,\n",
       " 4.287,\n",
       " 4.672,\n",
       " 4.855,\n",
       " 5.199,\n",
       " 5.203,\n",
       " 5.293,\n",
       " 5.48,\n",
       " 5.481,\n",
       " 5.536,\n",
       " 6.249,\n",
       " 6.638,\n",
       " 6.877,\n",
       " 7.128,\n",
       " 7.173,\n",
       " 7.555,\n",
       " 7.582,\n",
       " 7.854,\n",
       " 8.233,\n",
       " 8.526,\n",
       " 8.589,\n",
       " 8.808,\n",
       " 9.465,\n",
       " 9.524,\n",
       " 9.704,\n",
       " 10.22,\n",
       " 10.24,\n",
       " 10.32,\n",
       " 10.63,\n",
       " 12.14,\n",
       " 12.22,\n",
       " 13.05,\n",
       " 13.34,\n",
       " 13.73,\n",
       " 15.88,\n",
       " 16.0,\n",
       " 16.16,\n",
       " 16.57,\n",
       " 21.53,\n",
       " 22.2,\n",
       " 22.5]"
      ]
     },
     "execution_count": 95,
     "metadata": {},
     "output_type": "execute_result"
    }
   ],
   "source": [
    "sorted_data"
   ]
  },
  {
   "cell_type": "code",
   "execution_count": 96,
   "metadata": {},
   "outputs": [
    {
     "name": "stdout",
     "output_type": "stream",
     "text": [
      "[$1$], [$-22.164$], [$21$], [$-7.3654$], [$41$], [$-2.2134$], [$61$], [$4.2874$], [$81$], [$8.8084$], \n",
      "[$2$], [$-21.04$], [$22$], [$-6.9564$], [$42$], [$-1.8764$], [$62$], [$4.6724$], [$82$], [$9.4654$], \n",
      "[$3$], [$-19.984$], [$23$], [$-6.7934$], [$43$], [$-1.4964$], [$63$], [$4.8554$], [$83$], [$9.5244$], \n",
      "[$4$], [$-18.944$], [$24$], [$-6.4574$], [$44$], [$-1.3024$], [$64$], [$5.1994$], [$84$], [$9.7044$], \n",
      "[$5$], [$-18.424$], [$25$], [$-6.2244$], [$45$], [$-0.66414$], [$65$], [$5.2034$], [$85$], [$10.224$], \n",
      "[$6$], [$-18.214$], [$26$], [$-6.0394$], [$46$], [$-0.29934$], [$66$], [$5.2934$], [$86$], [$10.244$], \n",
      "[$7$], [$-17.624$], [$27$], [$-5.2184$], [$47$], [$-0.27134$], [$67$], [$5.484$], [$87$], [$10.324$], \n",
      "[$8$], [$-15.314$], [$28$], [$-4.9614$], [$48$], [$-0.058844$], [$68$], [$5.4814$], [$88$], [$10.634$], \n",
      "[$9$], [$-14.664$], [$29$], [$-4.94$], [$49$], [$0.068364$], [$69$], [$5.5364$], [$89$], [$12.144$], \n",
      "[$10$], [$-13.314$], [$30$], [$-4.6924$], [$50$], [$0.084874$], [$70$], [$6.2494$], [$90$], [$12.224$], \n",
      "[$11$], [$-12.924$], [$31$], [$-4.5374$], [$51$], [$0.23264$], [$71$], [$6.6384$], [$91$], [$13.054$], \n",
      "[$12$], [$-12.44$], [$32$], [$-4.1484$], [$52$], [$0.29644$], [$72$], [$6.8774$], [$92$], [$13.344$], \n",
      "[$13$], [$-11.024$], [$33$], [$-4.0834$], [$53$], [$0.64834$], [$73$], [$7.1284$], [$93$], [$13.734$], \n",
      "[$14$], [$-10.824$], [$34$], [$-3.874$], [$54$], [$1.2464$], [$74$], [$7.1734$], [$94$], [$15.884$], \n",
      "[$15$], [$-10.524$], [$35$], [$-3.6194$], [$55$], [$1.7394$], [$75$], [$7.5554$], [$95$], [$16.04$], \n",
      "[$16$], [$-9.7674$], [$36$], [$-3.1764$], [$56$], [$2.5044$], [$76$], [$7.5824$], [$96$], [$16.164$], \n",
      "[$17$], [$-9.3884$], [$37$], [$-3.1134$], [$57$], [$2.5294$], [$77$], [$7.8544$], [$97$], [$16.574$], \n",
      "[$18$], [$-8.1354$], [$38$], [$-2.4964$], [$58$], [$3.1064$], [$78$], [$8.2334$], [$98$], [$21.534$], \n",
      "[$19$], [$-8.0574$], [$39$], [$-2.4964$], [$59$], [$3.3454$], [$79$], [$8.5264$], [$99$], [$22.24$], \n",
      "[$20$], [$-7.6444$], [$40$], [$-2.3374$], [$60$], [$3.7644$], [$80$], [$8.5894$], [$100$], [$22.54$], \n"
     ]
    }
   ],
   "source": [
    "idx = 1\n",
    "\n",
    "for i in range(20):\n",
    "    for j in range(i , 100 + i, 20):\n",
    "        print(f\"[${j + 1}$], [${sorted_data[j]}4$], \", end=\"\")\n",
    "        idx += 1\n",
    "    print()\n",
    "\n",
    "    # for j in range(i, 100, 20):\n",
    "    "
   ]
  },
  {
   "cell_type": "code",
   "execution_count": 97,
   "metadata": {},
   "outputs": [
    {
     "name": "stdout",
     "output_type": "stream",
     "text": [
      "17 [-3.176, -3.113, -2.496, -2.496, -2.337, -2.213, -1.876, -1.496, -1.302, -0.6641, -0.2993, -0.2713, -0.05884, 0.06836, 0.08487, 0.2326, 0.2964]\n"
     ]
    }
   ],
   "source": [
    "for interval, numbers in results.items():\n",
    "    if len(numbers) >= 17:\n",
    "        print(len(numbers), numbers)"
   ]
  },
  {
   "cell_type": "code",
   "execution_count": 98,
   "metadata": {},
   "outputs": [
    {
     "data": {
      "image/png": "[encoded data removed]",
      "text/plain": [
       "<Figure size 640x480 with 1 Axes>"
      ]
     },
     "metadata": {},
     "output_type": "display_data"
    }
   ],
   "source": [
    "plt.scatter(x_axe, frec, marker='o')\n",
    "plt.plot(x_axe, frec, marker='o')\n",
    "\n",
    "plt.title(\"Полигон\")\n",
    "plt.xlabel(\"Интревал\")\n",
    "plt.ylabel(\"Частотность\")\n",
    "\n",
    "plt.xticks(x_axe_tick, rotation=45)\n",
    "\n",
    "plt.grid()\n",
    "plt.show()"
   ]
  },
  {
   "cell_type": "code",
   "execution_count": 99,
   "metadata": {},
   "outputs": [
    {
     "data": {
      "image/png": "[encoded data removed]",
      "text/plain": [
       "<Figure size 640x480 with 1 Axes>"
      ]
     },
     "metadata": {},
     "output_type": "display_data"
    }
   ],
   "source": [
    "plt.bar(x_axe, frec, width=delta_x)\n",
    "\n",
    "plt.title(\"Гистограмма\")\n",
    "plt.xlabel(\"Интревал\")\n",
    "plt.ylabel(\"Частотность\")\n",
    "\n",
    "plt.xticks(x_axe_tick, rotation=45)\n",
    "\n",
    "\n",
    "plt.grid() \n",
    "plt.show()"
   ]
  },
  {
   "cell_type": "code",
   "execution_count": 121,
   "metadata": {},
   "outputs": [
    {
     "name": "stdout",
     "output_type": "stream",
     "text": [
      "13 [-22.16, -18.41, -14.66, -10.91, -7.16, -3.41, 0.33999999999999986, 4.09, 7.84, 11.59, 15.34, 19.09, 22.84]\n",
      "13 [0, 0.05, 0.08, 0.13, 0.21000000000000002, 0.35000000000000003, 0.52, 0.6, 0.76, 0.88, 0.93, 0.9700000000000001, 1.0]\n"
     ]
    },
    {
     "data": {
      "image/png": "[encoded data removed]",
      "text/plain": [
       "<Figure size 640x480 with 1 Axes>"
      ]
     },
     "metadata": {},
     "output_type": "display_data"
    }
   ],
   "source": [
    "# Создание списка для накопленных частот\n",
    "cumulative_frequencies = []\n",
    "cumulative_sum = 0\n",
    "cumulative_frequencies.append(cumulative_sum)\n",
    "\n",
    "for f in frec:\n",
    "    cumulative_sum += f\n",
    "    cumulative_frequencies.append(cumulative_sum)\n",
    "\n",
    "cumulative_frequencies\n",
    "\n",
    "# # Создание графика накопленной частотности\n",
    "# plt.figure(figsize=(10, 6))  # Установка размера графика\n",
    "# plt.hist(intervals[:-1], bins=intervals, weights=cumulative_frequencies, color='blue', edgecolor='black', alpha=0.7, cumulative=True)\n",
    "\n",
    "# plt.stairs(cumulative_frequencies, frec)\n",
    "print(len(x_axe_tick), x_axe_tick)\n",
    "print(len(cumulative_frequencies), cumulative_frequencies)\n",
    "\n",
    "\n",
    "plt.stairs(cumulative_frequencies, x_with_avg, linewidth=2)\n",
    "\n",
    "\n",
    "plt.title(\"Ступенчатая кривая\")\n",
    "plt.xlabel(\"Интервал\")\n",
    "plt.ylabel(\"Накопленная частотность\")\n",
    "\n",
    "plt.xticks(x_axe_tick, rotation=45)\n",
    "\n",
    "plt.grid()\n",
    "plt.show()"
   ]
  },
  {
   "cell_type": "markdown",
   "metadata": {},
   "source": [
    "### ТОЧЕЧНАЯ ОЦЕНКА ХАРАКТЕРИСТИК РАСПРЕДЕЛЕНИЯ ПО СГРУППИРОВАННЫМ ДАННЫМ"
   ]
  },
  {
   "cell_type": "markdown",
   "metadata": {},
   "source": [
    "Среднее арифметическое выборки"
   ]
  },
  {
   "cell_type": "code",
   "execution_count": 123,
   "metadata": {},
   "outputs": [
    {
     "name": "stdout",
     "output_type": "stream",
     "text": [
      "x_avg = [-20.285, -16.535, -12.785, -9.035, -5.285, -1.5350000000000001, 2.215, 5.965, 9.715, 13.465, 17.215, 20.965]\n",
      "Среднее арифметическое выборки: 0.41499999999999965\n",
      "Мода: -1.5350000000000001\n",
      "S_2: 99.286558\n",
      "S: 9.964264047083457\n",
      "V: 24.010274812249314\n",
      "s_*_2: 98.114683\n"
     ]
    }
   ],
   "source": [
    "x_avg = x_with_avg[1:-1]\n",
    "\n",
    "print(f\"x_avg = {x_avg}\")\n",
    "\n",
    "sred_arr = 0\n",
    "for i in range(l):\n",
    "    sred_arr += x_avg[i] * frec[i] * 100\n",
    "\n",
    "sred_arr /= 100\n",
    "\n",
    "print(f\"Среднее арифметическое выборки: {sred_arr}\")\n",
    "\n",
    "max_size_int_val = 0\n",
    "max_size_int = ()\n",
    "\n",
    "for key, value in results.items():\n",
    "    if len(value) > max_size_int_val:\n",
    "        max_size_int_val = len(value)\n",
    "        max_size_int = key\n",
    "\n",
    "max_size_int\n",
    "\n",
    "# Мода 𝑀̃0 - ее оценкой считается середина самого многочисленного интервала.\n",
    "mode = (max_size_int[0] + max_size_int[1]) / 2\n",
    "print(f\"Мода: {mode}\")\n",
    "\n",
    "s_2 = 0\n",
    "\n",
    "for i in range(l):\n",
    "    # print(f\"avg={pow(x_avg[i], 2)}, f = {frec[i] * 100}, srar = {pow(sred_arr, 2)}\")\n",
    "    s_2 += pow(x_avg[i], 2) * (frec[i] * 100) - pow(sred_arr, 2)\n",
    "\n",
    "# делим на кол-во эллементов в выборке\n",
    "s_2 /= 100\n",
    "print(f\"S_2: {s_2}\")\n",
    "\n",
    "s = math.sqrt(s_2)\n",
    "\n",
    "print(f\"S: {s}\")\n",
    "\n",
    "v = s / sred_arr\n",
    "\n",
    "print(f\"V: {v}\")\n",
    "\n",
    "# поправка Шеппарда\n",
    "\n",
    "s_shep_2 = s_2 - pow(delta_x, 2) / l\n",
    "print(f\"s_*_2: {s_shep_2}\")\n",
    "\n"
   ]
  },
  {
   "cell_type": "markdown",
   "metadata": {},
   "source": [
    "Когда мы имеем дело с нецелочисленными границами, то за начало отсчета\n",
    "берем «ложный нуль», принимая за его значение интервал отвечающий\n",
    "наибольшему значению частоты."
   ]
  },
  {
   "cell_type": "code",
   "execution_count": 102,
   "metadata": {},
   "outputs": [
    {
     "name": "stdout",
     "output_type": "stream",
     "text": [
      "5 -1.5350000000000001\n",
      "[-5, -4, -3, -2, -1, 0, 1, 2, 3, 4, 5, 6]\n"
     ]
    }
   ],
   "source": [
    "max_interval_size_idx = 0\n",
    "max_interval_size_len = 0\n",
    "\n",
    "\n",
    "for i, (interval, numbers) in enumerate(results.items()):\n",
    "    # print(\"i = \", i,\"len = \", len(numbers), \"max_i = \",max_interval_size_idx, \"max_v = \",max_interval_size_len, \"\\n\")\n",
    "    if len(numbers) > max_interval_size_len:\n",
    "        max_interval_size_idx = i\n",
    "        max_interval_size_len = len(numbers)\n",
    "\n",
    "print(max_interval_size_idx, x_avg[max_interval_size_idx])\n",
    "\n",
    "otnos_mid_int = []\n",
    "\n",
    "for i, (interval, numbers) in enumerate(results.items()):\n",
    "    v = (x_avg[i] - x_avg[max_interval_size_idx]) / delta_x\n",
    "    otnos_mid_int.append(round(v))\n",
    "\n",
    "print(otnos_mid_int)\n",
    "    \n",
    "otnos_mid_int_2 = [pow(i, 2) for i in otnos_mid_int]\n",
    "otnos_mid_int_3 = [pow(i, 3) for i in otnos_mid_int]\n",
    "otnos_mid_int_4 = [pow(i, 4) for i in otnos_mid_int]\n",
    "\n",
    "int_frec = [int(i * 100) for i in frec]\n",
    "\n",
    "vi_yi = [(int_frec[i] * otnos_mid_int[i]) for i in range(len(results))]\n",
    "vi_yi_2 = [(int_frec[i] * otnos_mid_int_2[i]) for i in range(len(results))]\n",
    "vi_yi_3 = [(int_frec[i] * otnos_mid_int_3[i]) for i in range(len(results))]\n",
    "vi_yi_4 = [(int_frec[i] * otnos_mid_int_4[i]) for i in range(len(results))]"
   ]
  },
  {
   "cell_type": "code",
   "execution_count": 124,
   "metadata": {},
   "outputs": [
    {
     "name": "stdout",
     "output_type": "stream",
     "text": [
      "['№ интервала', 'середина интервала', 'отн середина', '(y_i)^2', '(y_i)^3', '(y_i)^4', 'частота в интервале', 'v_i * y_i', 'v_i * (y_i)^2', 'v_i * (y_i)^3', 'v_i * (y_i)^4'] \n",
      "\n",
      "[$1$], [$-20.285$], [$-5$], [$25$], [$-125$], [$625$], [$5$], [$-25$], [$125$], [$-625$], [$3125$], \n",
      "[$2$], [$-16.535$], [$-4$], [$16$], [$-64$], [$256$], [$3$], [$-12$], [$48$], [$-192$], [$768$], \n",
      "[$3$], [$-12.785$], [$-3$], [$9$], [$-27$], [$81$], [$5$], [$-15$], [$45$], [$-135$], [$405$], \n",
      "[$4$], [$-9.035$], [$-2$], [$4$], [$-8$], [$16$], [$8$], [$-16$], [$32$], [$-64$], [$128$], \n",
      "[$5$], [$-5.285$], [$-1$], [$1$], [$-1$], [$1$], [$14$], [$-14$], [$14$], [$-14$], [$14$], \n",
      "[$6$], [$-1.5350000000000001$], [$0$], [$0$], [$0$], [$0$], [$17$], [$0$], [$0$], [$0$], [$0$], \n",
      "[$7$], [$2.215$], [$1$], [$1$], [$1$], [$1$], [$8$], [$8$], [$8$], [$8$], [$8$], \n",
      "[$8$], [$5.965$], [$2$], [$4$], [$8$], [$16$], [$16$], [$32$], [$64$], [$128$], [$256$], \n",
      "[$9$], [$9.715$], [$3$], [$9$], [$27$], [$81$], [$12$], [$36$], [$108$], [$324$], [$972$], \n",
      "[$10$], [$13.465$], [$4$], [$16$], [$64$], [$256$], [$5$], [$20$], [$80$], [$320$], [$1280$], \n",
      "[$11$], [$17.215$], [$5$], [$25$], [$125$], [$625$], [$4$], [$20$], [$100$], [$500$], [$2500$], \n",
      "[$12$], [$20.965$], [$6$], [$36$], [$216$], [$1296$], [$3$], [$18$], [$108$], [$648$], [$3888$], \n"
     ]
    }
   ],
   "source": [
    "header_table_4 = [\"№ интервала\",  \"середина интервала\", \"отн середина\", \"(y_i)^2\", \"(y_i)^3\", \"(y_i)^4\", \"частота в интервале\", \"v_i * y_i\", \"v_i * (y_i)^2\", \"v_i * (y_i)^3\", \"v_i * (y_i)^4\"]\n",
    "\n",
    "print(header_table_4, \"\\n\")\n",
    "\n",
    "for i, (interval, numbers) in enumerate(results.items()):\n",
    "    row =  [i + 1, x_avg[i], otnos_mid_int[i], otnos_mid_int_2[i], otnos_mid_int_3[i], otnos_mid_int_4[i], int_frec[i], vi_yi[i], vi_yi_2[i], vi_yi_3[i], vi_yi_4[i]]\n",
    "    # print(row, \"\\n\")\n",
    "    for r in row:\n",
    "        print(f\"[${r}$], \", end=\"\")\n",
    "    print()"
   ]
  },
  {
   "cell_type": "markdown",
   "metadata": {},
   "source": [
    "Cуммы"
   ]
  },
  {
   "cell_type": "code",
   "execution_count": 104,
   "metadata": {},
   "outputs": [
    {
     "name": "stdout",
     "output_type": "stream",
     "text": [
      "Σ0 =  100\n",
      "Σ1 =  52\n",
      "Σ2 =  732\n",
      "Σ3 =  898\n",
      "Σ4 =  13344\n"
     ]
    }
   ],
   "source": [
    "total_frec = sum(int_frec)\n",
    "print(\"Σ0 = \", total_frec)\n",
    "\n",
    "vi_yi_total = sum(vi_yi)\n",
    "print(\"Σ1 = \", vi_yi_total)\n",
    "\n",
    "vi_yi_2_total = sum(vi_yi_2)\n",
    "print(\"Σ2 = \", vi_yi_2_total)\n",
    "\n",
    "vi_yi_3_total = sum(vi_yi_3)\n",
    "print(\"Σ3 = \", vi_yi_3_total)\n",
    "\n",
    "vi_yi_4_total = sum(vi_yi_4)\n",
    "print(\"Σ4 = \", vi_yi_4_total)"
   ]
  },
  {
   "cell_type": "markdown",
   "metadata": {},
   "source": [
    "Начальные моменты в относительном выражении"
   ]
  },
  {
   "cell_type": "code",
   "execution_count": 105,
   "metadata": {},
   "outputs": [
    {
     "name": "stdout",
     "output_type": "stream",
     "text": [
      "h1 =  0.52\n",
      "h2 =  7.32\n",
      "h3 =  8.98\n",
      "h4 =  133.44\n"
     ]
    }
   ],
   "source": [
    "h1 = vi_yi_total / 100 # data len\n",
    "print(\"h1 = \", h1)\n",
    "\n",
    "h2 = vi_yi_2_total / 100 # data len\n",
    "print(\"h2 = \", h2)\n",
    "\n",
    "h3 = vi_yi_3_total / 100 # data len\n",
    "print(\"h3 = \", h3)\n",
    "\n",
    "h4 = vi_yi_4_total / 100 # data len\n",
    "print(\"h4 = \", h4)\n",
    "\n"
   ]
  },
  {
   "cell_type": "markdown",
   "metadata": {},
   "source": [
    "Вычислим значения моментов по предлагаемым формулам:"
   ]
  },
  {
   "cell_type": "code",
   "execution_count": 106,
   "metadata": {},
   "outputs": [
    {
     "name": "stdout",
     "output_type": "stream",
     "text": [
      "m1 = 0.41500000000000004\n",
      "m2 = 99.135\n",
      "m3 = -113.79993749999997\n",
      "m4 = 24999.696731250002\n"
     ]
    }
   ],
   "source": [
    "m1 = delta_x * h1 + x_avg[max_interval_size_idx]\n",
    "m2 = pow(delta_x, 2) * (h2 - pow(h1, 2))\n",
    "m3 = pow(delta_x, 3) * (h3 - 3 * h1 * h2 + 2 * pow(h1, 3))\n",
    "m4 = pow(delta_x, 4) * (h4 - (4 * h1 * h3) + (6 * pow(h1, 2) * h2) - (3 * pow(h1, 4)))\n",
    "\n",
    "print(f\"m1 = {m1}\")\n",
    "print(f\"m2 = {m2}\")\n",
    "print(f\"m3 = {m3}\")\n",
    "print(f\"m4 = {m4}\")"
   ]
  },
  {
   "cell_type": "markdown",
   "metadata": {},
   "source": [
    "Оценки асимметрии и эксцесса определяются по формулам:"
   ]
  },
  {
   "cell_type": "code",
   "execution_count": 107,
   "metadata": {},
   "outputs": [
    {
     "name": "stdout",
     "output_type": "stream",
     "text": [
      "s_k = -0.11502873422656547\n",
      "e_k = -0.46397325058339334\n"
     ]
    }
   ],
   "source": [
    "s_k = m3 / pow(s, 3)\n",
    "e_k = m4 / pow(s, 4) - 3\n",
    "\n",
    "print(f\"s_k = {s_k}\")\n",
    "print(f\"e_k = {e_k}\")"
   ]
  },
  {
   "cell_type": "markdown",
   "metadata": {},
   "source": [
    "Доверительный интервал для математического ожидания. Возьмем часть\n",
    "нашей выборки. Обычно берут первые 20 элементов таблицы 1 (еще не сортированные)"
   ]
  },
  {
   "cell_type": "code",
   "execution_count": 108,
   "metadata": {},
   "outputs": [
    {
     "name": "stdout",
     "output_type": "stream",
     "text": [
      "[3.764, -21.0, 1.739, -5.218, 0.2964, -6.457, -3.113, -1.876, 5.203, 13.34, 13.05, -18.94, 15.88, 5.48, -8.135, 7.173, 0.2326, 10.24, 13.73, 6.877]\n",
      "[-21.0, -18.94, -8.135, -6.457, -5.218, -3.113, -1.876, 0.2326, 0.2964, 1.739, 3.764, 5.203, 5.48, 6.877, 7.173, 10.24, 13.05, 13.34, 13.73, 15.88]\n",
      "[441.0, 358.72360000000003, 66.178225, 41.692848999999995, 27.227524, 9.690769, 3.5193759999999994, 0.05410276, 0.08785296, 3.0241210000000005, 14.167695999999998, 27.071209000000003, 30.030400000000004, 47.293129, 51.451929, 104.8576, 170.3025, 177.9556, 188.5129, 252.17440000000002]\n"
     ]
    }
   ],
   "source": [
    "short_num = 20\n",
    "\n",
    "short_table = new_data[:short_num]\n",
    "print(short_table)\n",
    "\n",
    "sorted_short_table = sorted(short_table)\n",
    "print(sorted_short_table)\n",
    "\n",
    "sorted_short_table_2 = [pow(i, 2) for i in sorted_short_table]\n",
    "print(sorted_short_table_2)\n"
   ]
  },
  {
   "cell_type": "markdown",
   "metadata": {},
   "source": [
    "найдем по ним оценки математического ожидания и дисперсии\n",
    "(смещенную и несмещенную)"
   ]
  },
  {
   "cell_type": "code",
   "execution_count": 125,
   "metadata": {},
   "outputs": [
    {
     "name": "stdout",
     "output_type": "stream",
     "text": [
      "Смещенная дисперсия: 103.31373920631579\n",
      "Несмещенная дисперсия: 98.148052246\n",
      "mean_value: 1.6133000000000002\n",
      "n-1 = 19\n",
      "t5,19 = из таблицы распределения Стьюдента, приложение 1\n",
      "s =  9.906969882158721 \n",
      "\n",
      "sqrt (n - 1) =  4.358898943540674 \n",
      "\n",
      "=================\n",
      "\n",
      "-3.143701305131248 < m_x < 6.370301305131248\n"
     ]
    },
    {
     "data": {
      "text/plain": [
       "10.16433663385446"
      ]
     },
     "execution_count": 125,
     "metadata": {},
     "output_type": "execute_result"
    }
   ],
   "source": [
    "# Вычисление несмещенной дисперсии\n",
    "unbiased_variance_short = statistics.variance(short_table)\n",
    "\n",
    "# Вычисление смещенной дисперсии\n",
    "biased_variance_short = statistics.pvariance(short_table)\n",
    "\n",
    "print(\"Смещенная дисперсия:\", unbiased_variance_short)\n",
    "print(\"Несмещенная дисперсия:\", biased_variance_short)\n",
    "\n",
    "mean_value_short = statistics.mean(short_table)\n",
    "\n",
    "print(\"mean_value:\", mean_value_short)\n",
    "\n",
    "short_q = 5\n",
    "\n",
    "n_minus_one = short_num - 1\n",
    "print(\"n-1 =\", n_minus_one)\n",
    "\n",
    "print(f\"t{short_q},{n_minus_one} = из таблицы распределения Стьюдента, приложение 1\")\n",
    "\n",
    "# !!!!!!!!!!!! поменять значение !!!!!!!!!!!!!\n",
    "t_q_n_minus_one = 2.093\n",
    "\n",
    "print(\"s = \", math.sqrt(biased_variance_short), \"\\n\")\n",
    "\n",
    "print(\"sqrt (n - 1) = \", math.sqrt(n_minus_one), \"\\n\")\n",
    "\n",
    "print(\"=================\\n\")\n",
    "\n",
    "# print(f\"{mean_value} - {t_q_n_minus_one} * {math.sqrt(biased_variance_short)} / {math.sqrt(n_minus_one)}\\n\")\n",
    "\n",
    "left = mean_value_short - t_q_n_minus_one * math.sqrt(biased_variance_short) / (math.sqrt(n_minus_one))\n",
    "right = mean_value_short + t_q_n_minus_one * math.sqrt(biased_variance_short) / (math.sqrt(n_minus_one))\n",
    "\n",
    "print(f\"{left} < m_x < {right}\")\n",
    "\n",
    "math.sqrt(unbiased_variance_short)"
   ]
  },
  {
   "cell_type": "markdown",
   "metadata": {},
   "source": [
    "В результате получили доверительный интервал для математического ожидания\n",
    "с доверительной вероятностью p=1-q=0,95."
   ]
  },
  {
   "cell_type": "markdown",
   "metadata": {},
   "source": [
    "Доверительный интервал для дисперсии 𝜎 2 и 𝜎 среднеквадратического\n",
    "отклонения."
   ]
  },
  {
   "cell_type": "code",
   "execution_count": 110,
   "metadata": {},
   "outputs": [
    {
     "name": "stdout",
     "output_type": "stream",
     "text": [
      "p1 = 0.98\n",
      "p2 = 0.02\n",
      "\n"
     ]
    }
   ],
   "source": [
    "p1 = 1 - (1 / 2) * ((short_q - 1) / 100) \n",
    "p2 = (1 / 2) * ((short_q - 1)/ 100) \n",
    "\n",
    "print(f\"p1 = {p1}\\np2 = {p2}\\n\")\n",
    "\n",
    "# !!!!! приложение 2\n",
    "xi_12 = 8.567\n",
    "xi_22 = 33.687 "
   ]
  },
  {
   "cell_type": "code",
   "execution_count": 111,
   "metadata": {},
   "outputs": [
    {
     "name": "stdout",
     "output_type": "stream",
     "text": [
      "58.2705804886158 < q_x^2 < 229.1305060021011\n",
      "7.6335169148051145 < q_x^2 < 15.137057375926839\n"
     ]
    }
   ],
   "source": [
    "q_left = (short_num * biased_variance_short) / xi_22\n",
    "q_right = (short_num * biased_variance_short) / xi_12\n",
    "\n",
    "print(f\"{q_left} < q_x^2 < {q_right}\")\n",
    "\n",
    "q_left_sqrt = math.sqrt(q_left)\n",
    "q_right_sqrt = math.sqrt(q_right)\n",
    "\n",
    "print(f\"{q_left_sqrt} < q_x^2 < {q_right_sqrt}\")\n"
   ]
  },
  {
   "cell_type": "markdown",
   "metadata": {},
   "source": [
    "Используя вышеприведенную методику, мы определили доверительные\n",
    "интервалы для дисперсии и среднеквадратического отклонения на\n",
    "доверительном уровне 0,98."
   ]
  },
  {
   "cell_type": "markdown",
   "metadata": {},
   "source": [
    "### УПРОЩЕННЫЙ МЕТОД ПРОВЕРКИ ГИПОТЕЗЫ О НОРМАЛЬНОСТИ ЗАКОНА РАСПРЕДЕЛЕНИЯ НА ОСНОВЕ СРАВНЕНИЯ АСИММЕТРИИ И ЭКСЦЕССА"
   ]
  },
  {
   "cell_type": "code",
   "execution_count": 112,
   "metadata": {},
   "outputs": [
    {
     "name": "stdout",
     "output_type": "stream",
     "text": [
      "q_s_k = 0.23895379004082073\n",
      "q_e_k = 0.4639338588152939\n",
      "s_k = -0.11502873422656547\n",
      "e_k = -0.46397325058339334\n"
     ]
    }
   ],
   "source": [
    "n = len(new_data)\n",
    "\n",
    "q_s_k = math.sqrt((6 * (n - 1)) / ((n + 1) * (n + 3)))\n",
    "q_e_k = math.sqrt((24 * n *  (n - 2) *  (n - 3)) / (pow((n - 1), 2) * (n + 3) * (n + 5)))\n",
    "\n",
    "\n",
    "print(f\"q_s_k = {q_s_k}\")\n",
    "print(f\"q_e_k = {q_e_k}\")\n",
    "\n",
    "\n",
    "print(f\"s_k = {s_k}\")\n",
    "print(f\"e_k = {e_k}\")"
   ]
  },
  {
   "cell_type": "markdown",
   "metadata": {},
   "source": [
    "Оценив эти величины, можно определить, насколько наши оценки\n",
    "асимметрии и эксцесса существенны для принятия решения о нормальном законе\n",
    "распределения. "
   ]
  },
  {
   "cell_type": "markdown",
   "metadata": {},
   "source": [
    " На основе неравенства Чебышева получают критические области\n",
    "для асимметрии и эксцесса: |𝑆_𝑘 | > 3𝜎_s_k, |𝐸_𝑘 | > 5𝜎_e_k "
   ]
  },
  {
   "cell_type": "code",
   "execution_count": 113,
   "metadata": {},
   "outputs": [
    {
     "name": "stdout",
     "output_type": "stream",
     "text": [
      "True\n",
      "True\n"
     ]
    }
   ],
   "source": [
    "print(abs(s_k) < 3 * q_s_k)\n",
    "print(abs(e_k) < 5 * q_e_k)\n"
   ]
  },
  {
   "cell_type": "markdown",
   "metadata": {},
   "source": [
    "мы видим, что ранее вычисленные не попадают в критическую область, что говорит о том, что\n",
    "гипотеза о нормальном законе распределения не противоречит\n",
    "этому критерию"
   ]
  },
  {
   "cell_type": "markdown",
   "metadata": {},
   "source": [
    "### КРИТЕРИЙ ХИ-КВАДРАТ ДЛЯ ПРОВЕРКИ СТАТИСТИЧЕСКИХ ГИПОТЕЗ"
   ]
  },
  {
   "cell_type": "code",
   "execution_count": null,
   "metadata": {},
   "outputs": [
    {
     "name": "stdout",
     "output_type": "stream",
     "text": [
      "0: npi = 1.749999999999996 vi - npi = 3.250000000000004\n",
      "1: npi = 3.610000000000002 vi - npi = -0.6100000000000021\n",
      "2: npi = 6.159999999999998 vi - npi = -1.1599999999999984\n",
      "3: npi = 1.3000000000000012 vi - npi = 6.699999999999999\n",
      "4: npi = 21.19 vi - npi = -7.190000000000001\n",
      "5: npi = 16.4 vi - npi = 0.6000000000000014\n",
      "6: npi = 12.830000000000002 vi - npi = -4.830000000000002\n",
      "7: npi = 12.909999999999997 vi - npi = 3.0900000000000034\n",
      "8: npi = 11.49 vi - npi = 0.5099999999999998\n",
      "9: npi = 4.489999999999999 vi - npi = 0.5100000000000007\n",
      "10: npi = 3.670000000000001 vi - npi = 0.3299999999999992\n",
      "11: npi = 1.8199999999999994 vi - npi = 1.1800000000000006\n"
     ]
    }
   ],
   "source": [
    "from scipy.stats import norm\n",
    "# Параметры распределения Лапласа\n",
    "mu = 0  # среднее\n",
    "b = 1   # масштаб\n",
    "\n",
    "# Значение, для которого нужно вычислить CDF\n",
    "# x = 0.838780183065206\n",
    "\n",
    "# Вычисление CDF\n",
    "# F_x = norm.cdf(x)\n",
    "\n",
    "# print(f\"F({x}) = {F_x}\")\n",
    "f_vals = [-0.4881, -0.4706, -0.4345, -0.3729, -0.3599, -0.1480, 0.0160, 0.1443, 0.2734, 0.3883, 0.4332, 0.4699, 0.4881]\n",
    "for i, (interval, numbers) in enumerate(results.items()):\n",
    "\n",
    "    pi = f_vals[i + 1] - f_vals[i]\n",
    "    n_pi = pi * 100    \n",
    "    # print(len(numbers))\n",
    "    # print(f\"[${i + 1}$], [${interval[0]}:{interval[1]}$], [${(interval[1] - mean_value) / s}$], [${f_vals[i + 1]}$], [${pi}$] , [${n_pi}$] , [$0$] , [$0$] , [$0$] ,\")\n",
    "    \n",
    "    if n_pi > 10:\n",
    "        print(f\"[${i + 1}$], [${interval[0]}:{interval[1]}$], [${(interval[1] - mean_value) / s}$], [${f_vals[i + 1]}$], [${pi}$] , [${n_pi}$] , [$0$] , [$0$] , [$0$] ,\")\n",
    "        continue\n",
    "\n",
    "    acc = 0\n",
    "\n",
    "    if n_pi < 10:\n",
    "        acc = 0\n",
    "        \n",
    "\n",
    "    vi_minus_npi = int_frec[i] - n_pi\n",
    "    print(f\"{i}: npi = {n_pi} vi - npi = {int_frec[i] - n_pi}\")\n"
   ]
  },
  {
   "attachments": {
    "image.png": {
     "image/png": "[encoded data removed]"
    }
   },
   "cell_type": "markdown",
   "metadata": {},
   "source": [
    "![image.png](attachment:image.png)"
   ]
  },
  {
   "attachments": {
    "image.png": {
     "image/png": "[encoded data removed]"
    }
   },
   "cell_type": "markdown",
   "metadata": {},
   "source": [
    "![image.png](attachment:image.png)"
   ]
  },
  {
   "cell_type": "markdown",
   "metadata": {},
   "source": [
    "### ПРОВЕРКА ГИПОТЕЗЫ ОБ ОДНОРОДНОСТИ ВЫБОРКИ НА ОСНОВЕ КРИТЕРИЕВ ЗНАКОВ И ВИЛКОКСОНА"
   ]
  },
  {
   "cell_type": "code",
   "execution_count": 115,
   "metadata": {},
   "outputs": [
    {
     "name": "stdout",
     "output_type": "stream",
     "text": [
      "k_plus = 12\n",
      "k_minus = 8\n"
     ]
    }
   ],
   "source": [
    "first_20 = new_data[:20]\n",
    "last_20 = new_data[-20:]\n",
    "\n",
    "z_i = []\n",
    "\n",
    "for i in range(20):\n",
    "    z_i.append(first_20[i] - last_20[i])\n",
    "\n",
    "k_plus = 0\n",
    "k_minus = 0\n",
    "\n",
    "for el in z_i:\n",
    "    if el >= 0:\n",
    "        k_plus += 1\n",
    "    else:\n",
    "        k_minus += 1\n",
    "\n",
    "\n",
    "print(f\"k_plus = {k_plus}\")\n",
    "print(f\"k_minus = {k_minus}\")"
   ]
  },
  {
   "cell_type": "markdown",
   "metadata": {},
   "source": [
    "Если меньшее число знаков из\n",
    "𝑘𝑛 (+) и 𝑘𝑛 (−) меньше 𝑚\n",
    " ̅ 𝑛 , то гипотеза 𝐻 0 отвергается, а если меньшее\n",
    "число знаков из 𝑘𝑛 (+) и 𝑘𝑛 (−) окажется больше 𝑚\n",
    " ̅ 𝑛 , то гипотеза 𝐻 0 не\n",
    "противоречит данным выборки."
   ]
  },
  {
   "cell_type": "markdown",
   "metadata": {},
   "source": [
    "В нашем случае для выборки n=20 𝑘𝑛 (+) =\n",
    "9 и 𝑘𝑛 (−) = 11. В таблице приложение 4 находим для n=20 и\n",
    "𝑞 = 5% находим 𝑚\n",
    " ̅ 20 = 5"
   ]
  },
  {
   "cell_type": "code",
   "execution_count": 116,
   "metadata": {},
   "outputs": [
    {
     "name": "stdout",
     "output_type": "stream",
     "text": [
      "[(2, -22.16), (1, -21.0), (1, -18.94), (2, -18.21), (2, -14.66), (2, -10.52), (2, -9.767), (1, -8.135), (2, -7.644), (1, -6.457), (2, -6.039), (1, -5.218), (2, -4.9), (2, -3.87), (1, -3.113), (1, -1.876), (2, 0.06836), (1, 0.2326), (1, 0.2964), (1, 1.739), (1, 3.764), (2, 4.287), (2, 4.672), (1, 5.203), (1, 5.48), (2, 5.481), (2, 5.536), (2, 6.249), (1, 6.877), (1, 7.173), (2, 7.854), (1, 10.24), (2, 12.14), (2, 12.22), (1, 13.05), (1, 13.34), (1, 13.73), (1, 15.88), (2, 16.0), (2, 22.2)]\n"
     ]
    },
    {
     "data": {
      "text/plain": [
       "220"
      ]
     },
     "execution_count": 116,
     "metadata": {},
     "output_type": "execute_result"
    }
   ],
   "source": [
    "prep = []\n",
    "\n",
    "for el in first_20:\n",
    "    prep.append((1, el))\n",
    "\n",
    "for el in last_20:\n",
    "    prep.append((2, el))\n",
    "\n",
    "def custom_sort(x):\n",
    "    return x[1] \n",
    "\n",
    "prep.sort(key=custom_sort)\n",
    "\n",
    "inv_cnt = 0\n",
    "\n",
    "first_bef = 0\n",
    "last_bef = 0\n",
    "\n",
    "print(prep)\n",
    "\n",
    "for i in range(len(prep) - 1):\n",
    "    if prep[i][0] == 1:\n",
    "        inv_cnt += last_bef\n",
    "        first_bef += 1\n",
    "    elif prep[i][0] == 2:\n",
    "        last_bef += 1\n",
    "\n",
    "inv_cnt"
   ]
  },
  {
   "cell_type": "code",
   "execution_count": 117,
   "metadata": {},
   "outputs": [
    {
     "name": "stdout",
     "output_type": "stream",
     "text": [
      "m_u = 200\n",
      "d_u = 1367\n",
      "q_u = 37\n"
     ]
    }
   ],
   "source": [
    "m_u = round(pow(20, 2) / 2)\n",
    "d_u = round(pow(20, 2) / 12 * (20 * 2 + 1))\n",
    "q_u = round(math.sqrt(d_u))\n",
    "\n",
    "print(f\"m_u = {m_u}\")\n",
    "print(f\"d_u = {d_u}\")\n",
    "print(f\"q_u = {q_u}\")"
   ]
  },
  {
   "cell_type": "markdown",
   "metadata": {},
   "source": [
    "функция Лапласа, из которой по таблице в приложении 3\n",
    "найдем значение 𝑡 𝑞"
   ]
  },
  {
   "cell_type": "code",
   "execution_count": 118,
   "metadata": {},
   "outputs": [],
   "source": [
    "# 𝑞 = 1 − 2Ф( (1 - 0.05) / 2) = 0.475\n",
    "f_t = 0.475"
   ]
  },
  {
   "cell_type": "markdown",
   "metadata": {},
   "source": [
    "𝑡𝑞 по таблице в приложении 3 находим равному 𝑡𝑞 = 1,96 ."
   ]
  },
  {
   "cell_type": "code",
   "execution_count": 119,
   "metadata": {},
   "outputs": [],
   "source": [
    "t_q = 1.96"
   ]
  },
  {
   "cell_type": "code",
   "execution_count": 120,
   "metadata": {},
   "outputs": [
    {
     "name": "stdout",
     "output_type": "stream",
     "text": [
      "u1 = 127.48\n",
      "u2 = 272.52\n",
      "uu = 220\n"
     ]
    }
   ],
   "source": [
    "u1 = m_u - t_q * q_u\n",
    "u2 = m_u + t_q * q_u\n",
    "\n",
    "print(f\"u1 = {u1}\")\n",
    "print(f\"u2 = {u2}\")\n",
    "print(f\"uu = {inv_cnt}\")\n"
   ]
  },
  {
   "cell_type": "code",
   "execution_count": 133,
   "metadata": {},
   "outputs": [
    {
     "data": {
      "text/plain": [
       "'проверка гипотезы об однородности выборки на основе критериев знаков и вилкоксона'"
      ]
     },
     "execution_count": 133,
     "metadata": {},
     "output_type": "execute_result"
    }
   ],
   "source": [
    "\"ПРОВЕРКА ГИПОТЕЗЫ ОБ ОДНОРОДНОСТИ ВЫБОРКИ НА ОСНОВЕ КРИТЕРИЕВ ЗНАКОВ И ВИЛКОКСОНА\".lower()"
   ]
  }
 ],
 "metadata": {
  "kernelspec": {
   "display_name": ".venv",
   "language": "python",
   "name": "python3"
  },
  "language_info": {
   "codemirror_mode": {
    "name": "ipython",
    "version": 3
   },
   "file_extension": ".py",
   "mimetype": "text/x-python",
   "name": "python",
   "nbconvert_exporter": "python",
   "pygments_lexer": "ipython3",
   "version": "3.13.1"
  }
 },
 "nbformat": 4,
 "nbformat_minor": 2
}
